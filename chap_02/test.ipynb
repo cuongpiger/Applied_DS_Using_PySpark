{
 "cells": [
  {
   "cell_type": "code",
   "execution_count": 1,
   "metadata": {},
   "outputs": [],
   "source": [
    "import findspark\n",
    "findspark.init()"
   ]
  },
  {
   "cell_type": "code",
   "execution_count": 2,
   "metadata": {},
   "outputs": [],
   "source": [
    "import pyspark\n",
    "from pyspark.sql import SparkSession"
   ]
  },
  {
   "cell_type": "code",
   "execution_count": 3,
   "metadata": {},
   "outputs": [
    {
     "name": "stderr",
     "output_type": "stream",
     "text": [
      "22/01/16 22:48:00 WARN Utils: Your hostname, Rose resolves to a loopback address: 127.0.1.1; using 192.168.1.14 instead (on interface enp3s0)\n",
      "22/01/16 22:48:00 WARN Utils: Set SPARK_LOCAL_IP if you need to bind to another address\n",
      "WARNING: An illegal reflective access operation has occurred\n",
      "WARNING: Illegal reflective access by org.apache.spark.unsafe.Platform (file:/opt/spark-3.0.3/jars/spark-unsafe_2.12-3.0.3.jar) to constructor java.nio.DirectByteBuffer(long,int)\n",
      "WARNING: Please consider reporting this to the maintainers of org.apache.spark.unsafe.Platform\n",
      "WARNING: Use --illegal-access=warn to enable warnings of further illegal reflective access operations\n",
      "WARNING: All illegal access operations will be denied in a future release\n",
      "22/01/16 22:48:00 WARN NativeCodeLoader: Unable to load native-hadoop library for your platform... using builtin-java classes where applicable\n",
      "Using Spark's default log4j profile: org/apache/spark/log4j-defaults.properties\n",
      "Setting default log level to \"WARN\".\n",
      "To adjust logging level use sc.setLogLevel(newLevel). For SparkR, use setLogLevel(newLevel).\n",
      "22/01/16 22:48:01 WARN Utils: Service 'SparkUI' could not bind on port 4040. Attempting port 4041.\n"
     ]
    }
   ],
   "source": []
  },
  {
   "cell_type": "code",
   "execution_count": 4,
   "metadata": {},
   "outputs": [],
   "source": [
    "file_location = \"./movie_data_part1.csv\"\n",
    "file_type = \"csv\"\n",
    "infer_schema = \"False\"\n",
    "first_row_is_header = \"True\"\n",
    "delimiter = \"|\"\n",
    "\n",
    "df = spark.read.format(file_type) \\\n",
    "    .option(\"inferSchema\", infer_schema) \\\n",
    "    .option(\"header\", first_row_is_header) \\\n",
    "    .option(\"sep\", delimiter) \\\n",
    "    .load(file_location)"
   ]
  },
  {
   "cell_type": "code",
   "execution_count": 5,
   "metadata": {},
   "outputs": [
    {
     "name": "stdout",
     "output_type": "stream",
     "text": [
      "root\n",
      " |-- belongs_to_collection: string (nullable = true)\n",
      " |-- budget: string (nullable = true)\n",
      " |-- id: string (nullable = true)\n",
      " |-- original_language: string (nullable = true)\n",
      " |-- original_title: string (nullable = true)\n",
      " |-- overview: string (nullable = true)\n",
      " |-- popularity: string (nullable = true)\n",
      " |-- production_companies: string (nullable = true)\n",
      " |-- production_countries: string (nullable = true)\n",
      " |-- release_date: string (nullable = true)\n",
      " |-- revenue: string (nullable = true)\n",
      " |-- runtime: string (nullable = true)\n",
      " |-- status: string (nullable = true)\n",
      " |-- tagline: string (nullable = true)\n",
      " |-- title: string (nullable = true)\n",
      " |-- vote_average: string (nullable = true)\n",
      "\n"
     ]
    }
   ],
   "source": [
    "df.printSchema()"
   ]
  },
  {
   "cell_type": "code",
   "execution_count": 6,
   "metadata": {},
   "outputs": [
    {
     "data": {
      "text/plain": [
       "[('belongs_to_collection', 'string'),\n",
       " ('budget', 'string'),\n",
       " ('id', 'string'),\n",
       " ('original_language', 'string'),\n",
       " ('original_title', 'string'),\n",
       " ('overview', 'string'),\n",
       " ('popularity', 'string'),\n",
       " ('production_companies', 'string'),\n",
       " ('production_countries', 'string'),\n",
       " ('release_date', 'string'),\n",
       " ('revenue', 'string'),\n",
       " ('runtime', 'string'),\n",
       " ('status', 'string'),\n",
       " ('tagline', 'string'),\n",
       " ('title', 'string'),\n",
       " ('vote_average', 'string')]"
      ]
     },
     "execution_count": 6,
     "metadata": {},
     "output_type": "execute_result"
    }
   ],
   "source": [
    "df.dtypes"
   ]
  },
  {
   "cell_type": "code",
   "execution_count": 7,
   "metadata": {},
   "outputs": [
    {
     "data": {
      "text/plain": [
       "43998"
      ]
     },
     "execution_count": 7,
     "metadata": {},
     "output_type": "execute_result"
    }
   ],
   "source": [
    "df.count()"
   ]
  },
  {
   "cell_type": "code",
   "execution_count": 8,
   "metadata": {},
   "outputs": [
    {
     "name": "stdout",
     "output_type": "stream",
     "text": [
      "+-----+-------+------------------+------------+-------+--------------------+\n",
      "|   id| budget|        popularity|release_date|revenue|               title|\n",
      "+-----+-------+------------------+------------+-------+--------------------+\n",
      "|43000|      0|             2.503|  1962-05-23|      0|The Elusive Corporal|\n",
      "|43001|      0|              5.51|  1962-11-12|      0|  Sundays and Cybele|\n",
      "|43002|      0|              5.62|  1962-05-24|      0|Lonely Are the Brave|\n",
      "|43003|      0|             7.159|  1975-03-12|      0|          F for Fake|\n",
      "|43004| 500000|             3.988|  1962-10-09|      0|Long Day's Journe...|\n",
      "|43006|      0|             3.194|  1962-03-09|      0|           My Geisha|\n",
      "|43007|      0|             2.689|  1962-10-31|      0|Period of Adjustment|\n",
      "|43008|      0|             6.537|  1959-03-13|      0|    The Hanging Tree|\n",
      "|43010|      0|             4.297|  1962-01-01|      0|Sherlock Holmes a...|\n",
      "|43011|      0|             4.417|  1962-01-01|      0|  Sodom and Gomorrah|\n",
      "|43012|7000000|4.7219999999999995|  1962-11-21|4000000|         Taras Bulba|\n",
      "|43013|      0|             2.543|  1962-04-17|      0|The Counterfeit T...|\n",
      "|43014|      0|             4.303|  1962-10-24|      0|     Tower of London|\n",
      "|43015|      0|             3.493|  1962-12-07|      0|Varan the Unbelie...|\n",
      "|43016|      0|             2.851|  1962-01-01|      0|Waltz of the Tore...|\n",
      "|43017|      0|             4.047|  1961-10-11|      0|         Back Street|\n",
      "|43018|      0|             2.661|  1961-06-02|      0|Gidget Goes Hawaiian|\n",
      "|43019|      0|             3.225|  2010-05-28|      0|Schuks Tshabalala...|\n",
      "|43020|      0|              5.72|  1961-06-15|      0|The Colossus of R...|\n",
      "|43021|      0|             3.292|  2008-08-22|      0|          Sex Galaxy|\n",
      "+-----+-------+------------------+------------+-------+--------------------+\n",
      "only showing top 20 rows\n",
      "\n"
     ]
    }
   ],
   "source": [
    "select_columns = ['id', 'budget', 'popularity', 'release_date', 'revenue', 'title']\n",
    "df = df.select(select_columns)\n",
    "df.show()"
   ]
  },
  {
   "cell_type": "code",
   "execution_count": 9,
   "metadata": {},
   "outputs": [
    {
     "name": "stdout",
     "output_type": "stream",
     "text": [
      "+-----+-------+------------------+------------+-------+--------------------+\n",
      "|   id| budget|        popularity|release_date|revenue|               title|\n",
      "+-----+-------+------------------+------------+-------+--------------------+\n",
      "|43000|      0|             2.503|  1962-05-23|      0|The Elusive Corporal|\n",
      "|43001|      0|              5.51|  1962-11-12|      0|  Sundays and Cybele|\n",
      "|43002|      0|              5.62|  1962-05-24|      0|Lonely Are the Brave|\n",
      "|43003|      0|             7.159|  1975-03-12|      0|          F for Fake|\n",
      "|43004| 500000|             3.988|  1962-10-09|      0|Long Day's Journe...|\n",
      "|43006|      0|             3.194|  1962-03-09|      0|           My Geisha|\n",
      "|43007|      0|             2.689|  1962-10-31|      0|Period of Adjustment|\n",
      "|43008|      0|             6.537|  1959-03-13|      0|    The Hanging Tree|\n",
      "|43010|      0|             4.297|  1962-01-01|      0|Sherlock Holmes a...|\n",
      "|43011|      0|             4.417|  1962-01-01|      0|  Sodom and Gomorrah|\n",
      "|43012|7000000|4.7219999999999995|  1962-11-21|4000000|         Taras Bulba|\n",
      "|43013|      0|             2.543|  1962-04-17|      0|The Counterfeit T...|\n",
      "|43014|      0|             4.303|  1962-10-24|      0|     Tower of London|\n",
      "|43015|      0|             3.493|  1962-12-07|      0|Varan the Unbelie...|\n",
      "|43016|      0|             2.851|  1962-01-01|      0|Waltz of the Tore...|\n",
      "|43017|      0|             4.047|  1961-10-11|      0|         Back Street|\n",
      "|43018|      0|             2.661|  1961-06-02|      0|Gidget Goes Hawaiian|\n",
      "|43019|      0|             3.225|  2010-05-28|      0|Schuks Tshabalala...|\n",
      "|43020|      0|              5.72|  1961-06-15|      0|The Colossus of R...|\n",
      "|43021|      0|             3.292|  2008-08-22|      0|          Sex Galaxy|\n",
      "+-----+-------+------------------+------------+-------+--------------------+\n",
      "only showing top 20 rows\n",
      "\n"
     ]
    }
   ],
   "source": [
    "df.select('id','budget','popularity','release_date','revenue','title').show()"
   ]
  },
  {
   "cell_type": "code",
   "execution_count": 10,
   "metadata": {},
   "outputs": [
    {
     "name": "stdout",
     "output_type": "stream",
     "text": [
      "+-----+-------+------------------+------------+-------+--------------------------------------------------------+\n",
      "|id   |budget |popularity        |release_date|revenue|title                                                   |\n",
      "+-----+-------+------------------+------------+-------+--------------------------------------------------------+\n",
      "|43000|0      |2.503             |1962-05-23  |0      |The Elusive Corporal                                    |\n",
      "|43001|0      |5.51              |1962-11-12  |0      |Sundays and Cybele                                      |\n",
      "|43002|0      |5.62              |1962-05-24  |0      |Lonely Are the Brave                                    |\n",
      "|43003|0      |7.159             |1975-03-12  |0      |F for Fake                                              |\n",
      "|43004|500000 |3.988             |1962-10-09  |0      |Long Day's Journey Into Night                           |\n",
      "|43006|0      |3.194             |1962-03-09  |0      |My Geisha                                               |\n",
      "|43007|0      |2.689             |1962-10-31  |0      |Period of Adjustment                                    |\n",
      "|43008|0      |6.537             |1959-03-13  |0      |The Hanging Tree                                        |\n",
      "|43010|0      |4.297             |1962-01-01  |0      |Sherlock Holmes and the Deadly Necklace                 |\n",
      "|43011|0      |4.417             |1962-01-01  |0      |Sodom and Gomorrah                                      |\n",
      "|43012|7000000|4.7219999999999995|1962-11-21  |4000000|Taras Bulba                                             |\n",
      "|43013|0      |2.543             |1962-04-17  |0      |The Counterfeit Traitor                                 |\n",
      "|43014|0      |4.303             |1962-10-24  |0      |Tower of London                                         |\n",
      "|43015|0      |3.493             |1962-12-07  |0      |Varan the Unbelievable                                  |\n",
      "|43016|0      |2.851             |1962-01-01  |0      |Waltz of the Toreadors                                  |\n",
      "|43017|0      |4.047             |1961-10-11  |0      |Back Street                                             |\n",
      "|43018|0      |2.661             |1961-06-02  |0      |Gidget Goes Hawaiian                                    |\n",
      "|43019|0      |3.225             |2010-05-28  |0      |Schuks Tshabalala's Survival Guide to South Africa      |\n",
      "|43020|0      |5.72              |1961-06-15  |0      |The Colossus of Rhodes                                  |\n",
      "|43021|0      |3.292             |2008-08-22  |0      |Sex Galaxy                                              |\n",
      "|43022|0      |1.548             |1961-06-11  |0      |King of the Roaring 20's – The Story of Arnold Rothstein|\n",
      "|43023|0      |3.559             |1961-01-01  |0      |Konga                                                   |\n",
      "|43026|0      |3.444             |1961-12-13  |0      |Paris Belongs to Us                                     |\n",
      "|43027|0      |2.512             |1961-05-05  |0      |Teen Kanya                                              |\n",
      "|43028|0      |6.234             |1961-08-01  |0      |Victim                                                  |\n",
      "+-----+-------+------------------+------------+-------+--------------------------------------------------------+\n",
      "only showing top 25 rows\n",
      "\n"
     ]
    }
   ],
   "source": [
    "df.show(25, False)"
   ]
  },
  {
   "cell_type": "code",
   "execution_count": 11,
   "metadata": {},
   "outputs": [],
   "source": [
    "from pyspark.sql.functions import *"
   ]
  },
  {
   "cell_type": "code",
   "execution_count": 12,
   "metadata": {},
   "outputs": [
    {
     "data": {
      "text/plain": [
       "215"
      ]
     },
     "execution_count": 12,
     "metadata": {},
     "output_type": "execute_result"
    }
   ],
   "source": [
    "df.filter((df['popularity']=='')|df['popularity'].isNull()|isnan(df['popularity'])).count()"
   ]
  },
  {
   "cell_type": "code",
   "execution_count": 13,
   "metadata": {},
   "outputs": [
    {
     "name": "stdout",
     "output_type": "stream",
     "text": [
      "+---+------+----------+------------+-------+-----+\n",
      "| id|budget|popularity|release_date|revenue|title|\n",
      "+---+------+----------+------------+-------+-----+\n",
      "|125|   125|       215|         221|    215|  304|\n",
      "+---+------+----------+------------+-------+-----+\n",
      "\n"
     ]
    }
   ],
   "source": [
    "df.select([count(when((col(c)=='') | \n",
    "                       col(c).isNull() | \n",
    "                       isnan(c), c)).alias(c) for c in df.columns]).show()"
   ]
  },
  {
   "cell_type": "markdown",
   "metadata": {},
   "source": [
    "* Gom nhóm theo `title` sau đó đếm."
   ]
  },
  {
   "cell_type": "code",
   "execution_count": 14,
   "metadata": {},
   "outputs": [
    {
     "name": "stdout",
     "output_type": "stream",
     "text": [
      "+--------------------+-----+\n",
      "|               title|count|\n",
      "+--------------------+-----+\n",
      "|   The Corn Is Green|    1|\n",
      "|Meet The Browns -...|    1|\n",
      "|Morenita, El Esca...|    1|\n",
      "| Father Takes a Wife|    1|\n",
      "|The Werewolf of W...|    1|\n",
      "|My Wife Is a Gang...|    1|\n",
      "|Depeche Mode: Tou...|    1|\n",
      "|  A Woman Is a Woman|    1|\n",
      "|History Is Made a...|    1|\n",
      "|      Colombian Love|    1|\n",
      "|        Ace Attorney|    1|\n",
      "|     Not Like Others|    1|\n",
      "|40 Guns to Apache...|    1|\n",
      "|          Middle Men|    1|\n",
      "|         It's a Gift|    1|\n",
      "|    La Vie de Bohème|    1|\n",
      "|Rasputin: The Mad...|    1|\n",
      "|The Ballad of Jac...|    1|\n",
      "|         How to Deal|    1|\n",
      "|             Freaked|    1|\n",
      "+--------------------+-----+\n",
      "only showing top 20 rows\n",
      "\n"
     ]
    }
   ],
   "source": [
    "df.groupBy(\"title\").count().show()"
   ]
  },
  {
   "cell_type": "markdown",
   "metadata": {},
   "source": [
    "* Gom nhóm theo `title` sau đó sắp xếp giảm dần dựa theo số lượng của nhóm."
   ]
  },
  {
   "cell_type": "code",
   "execution_count": 15,
   "metadata": {},
   "outputs": [
    {
     "name": "stdout",
     "output_type": "stream",
     "text": [
      "+-----------------------------+-----+\n",
      "|title                        |count|\n",
      "+-----------------------------+-----+\n",
      "|null                         |304  |\n",
      "|Les Misérables               |8    |\n",
      "|The Three Musketeers         |8    |\n",
      "|Cinderella                   |8    |\n",
      "|Dracula                      |7    |\n",
      "|Hamlet                       |7    |\n",
      "|A Christmas Carol            |7    |\n",
      "|The Island                   |7    |\n",
      "|Frankenstein                 |7    |\n",
      "|Crime and Punishment         |6    |\n",
      "|Cleopatra                    |6    |\n",
      "|Framed                       |6    |\n",
      "|The Lost World               |6    |\n",
      "|Borderline                   |6    |\n",
      "|First Love                   |6    |\n",
      "|Beauty and the Beast         |6    |\n",
      "|Treasure Island              |6    |\n",
      "|The Hound of the Baskervilles|6    |\n",
      "|The Scarlet Letter           |5    |\n",
      "|Bad Company                  |5    |\n",
      "+-----------------------------+-----+\n",
      "only showing top 20 rows\n",
      "\n"
     ]
    }
   ],
   "source": [
    "df.groupBy('title').count().sort(desc('count')).show(truncate=False)"
   ]
  },
  {
   "cell_type": "code",
   "execution_count": 16,
   "metadata": {},
   "outputs": [
    {
     "name": "stdout",
     "output_type": "stream",
     "text": [
      "+-----+-------+------------------+------------+-------+--------------------+\n",
      "|   id| budget|        popularity|release_date|revenue|               title|\n",
      "+-----+-------+------------------+------------+-------+--------------------+\n",
      "|43000|      0|             2.503|  1962-05-23|      0|The Elusive Corporal|\n",
      "|43001|      0|              5.51|  1962-11-12|      0|  Sundays and Cybele|\n",
      "|43002|      0|              5.62|  1962-05-24|      0|Lonely Are the Brave|\n",
      "|43003|      0|             7.159|  1975-03-12|      0|          F for Fake|\n",
      "|43004| 500000|             3.988|  1962-10-09|      0|Long Day's Journe...|\n",
      "|43006|      0|             3.194|  1962-03-09|      0|           My Geisha|\n",
      "|43007|      0|             2.689|  1962-10-31|      0|Period of Adjustment|\n",
      "|43008|      0|             6.537|  1959-03-13|      0|    The Hanging Tree|\n",
      "|43010|      0|             4.297|  1962-01-01|      0|Sherlock Holmes a...|\n",
      "|43011|      0|             4.417|  1962-01-01|      0|  Sodom and Gomorrah|\n",
      "|43012|7000000|4.7219999999999995|  1962-11-21|4000000|         Taras Bulba|\n",
      "|43013|      0|             2.543|  1962-04-17|      0|The Counterfeit T...|\n",
      "|43014|      0|             4.303|  1962-10-24|      0|     Tower of London|\n",
      "|43015|      0|             3.493|  1962-12-07|      0|Varan the Unbelie...|\n",
      "|43016|      0|             2.851|  1962-01-01|      0|Waltz of the Tore...|\n",
      "|43017|      0|             4.047|  1961-10-11|      0|         Back Street|\n",
      "|43018|      0|             2.661|  1961-06-02|      0|Gidget Goes Hawaiian|\n",
      "|43019|      0|             3.225|  2010-05-28|      0|Schuks Tshabalala...|\n",
      "|43020|      0|              5.72|  1961-06-15|      0|The Colossus of R...|\n",
      "|43021|      0|             3.292|  2008-08-22|      0|          Sex Galaxy|\n",
      "+-----+-------+------------------+------------+-------+--------------------+\n",
      "only showing top 20 rows\n",
      "\n"
     ]
    }
   ],
   "source": [
    "df_temp = df.filter((col('title') != \"\") &\n",
    "                    (col('title').isNotNull()) &\n",
    "                    (~isnan('title')))\n",
    "df_temp.show()"
   ]
  },
  {
   "cell_type": "code",
   "execution_count": 17,
   "metadata": {},
   "outputs": [
    {
     "name": "stdout",
     "output_type": "stream",
     "text": [
      "+-----------------------------+-----+\n",
      "|title                        |count|\n",
      "+-----------------------------+-----+\n",
      "|Cinderella                   |8    |\n",
      "|The Three Musketeers         |8    |\n",
      "|Les Misérables               |8    |\n",
      "|The Island                   |7    |\n",
      "|A Christmas Carol            |7    |\n",
      "|Frankenstein                 |7    |\n",
      "|Dracula                      |7    |\n",
      "|Hamlet                       |7    |\n",
      "|Borderline                   |6    |\n",
      "|Framed                       |6    |\n",
      "|First Love                   |6    |\n",
      "|Cleopatra                    |6    |\n",
      "|The Hound of the Baskervilles|6    |\n",
      "|Crime and Punishment         |6    |\n",
      "|The Lost World               |6    |\n",
      "|Beauty and the Beast         |6    |\n",
      "|Treasure Island              |6    |\n",
      "|Darling                      |5    |\n",
      "|Blind Date                   |5    |\n",
      "|Nightmare                    |5    |\n",
      "+-----------------------------+-----+\n",
      "only showing top 20 rows\n",
      "\n"
     ]
    }
   ],
   "source": [
    "df_temp.groupBy('title').count().filter(\"`count` > 4\")\\\n",
    "        .sort(col('count').desc()).show(truncate=False)"
   ]
  },
  {
   "cell_type": "code",
   "execution_count": 18,
   "metadata": {},
   "outputs": [
    {
     "data": {
      "text/plain": [
       "111"
      ]
     },
     "execution_count": 18,
     "metadata": {},
     "output_type": "execute_result"
    }
   ],
   "source": [
    "df_temp.groupBy('title').count().filter(\"`count` >= 4\")\\\n",
    "    .sort(desc('count')).count()"
   ]
  },
  {
   "cell_type": "code",
   "execution_count": 19,
   "metadata": {},
   "outputs": [],
   "source": [
    "del df_temp"
   ]
  },
  {
   "cell_type": "code",
   "execution_count": 20,
   "metadata": {},
   "outputs": [
    {
     "data": {
      "text/plain": [
       "[('id', 'string'),\n",
       " ('budget', 'string'),\n",
       " ('popularity', 'string'),\n",
       " ('release_date', 'string'),\n",
       " ('revenue', 'string'),\n",
       " ('title', 'string')]"
      ]
     },
     "execution_count": 20,
     "metadata": {},
     "output_type": "execute_result"
    }
   ],
   "source": [
    "df.dtypes"
   ]
  },
  {
   "cell_type": "code",
   "execution_count": 21,
   "metadata": {},
   "outputs": [
    {
     "data": {
      "text/plain": [
       "[('id', 'string'),\n",
       " ('budget', 'float'),\n",
       " ('popularity', 'string'),\n",
       " ('release_date', 'string'),\n",
       " ('revenue', 'string'),\n",
       " ('title', 'string')]"
      ]
     },
     "execution_count": 21,
     "metadata": {},
     "output_type": "execute_result"
    }
   ],
   "source": [
    "df = df.withColumn('budget', col('budget').cast('float'))\n",
    "df.dtypes"
   ]
  },
  {
   "cell_type": "code",
   "execution_count": null,
   "metadata": {},
   "outputs": [],
   "source": []
  },
  {
   "cell_type": "code",
   "execution_count": 22,
   "metadata": {},
   "outputs": [],
   "source": [
    "from pyspark.sql.types import *"
   ]
  },
  {
   "cell_type": "code",
   "execution_count": 23,
   "metadata": {},
   "outputs": [
    {
     "data": {
      "text/plain": [
       "[('id', 'int'),\n",
       " ('budget', 'float'),\n",
       " ('popularity', 'float'),\n",
       " ('release_date', 'date'),\n",
       " ('revenue', 'float'),\n",
       " ('title', 'string')]"
      ]
     },
     "execution_count": 23,
     "metadata": {},
     "output_type": "execute_result"
    }
   ],
   "source": [
    "int_vars = ['id']\n",
    "float_vars = ['budget', 'popularity', 'revenue']\n",
    "date_vars = ['release_date']\n",
    "\n",
    "for c in int_vars:\n",
    "    df = df.withColumn(c, df[c].cast(IntegerType()))\n",
    "    \n",
    "for c in float_vars:\n",
    "    df = df.withColumn(c, df[c].cast(FloatType()))\n",
    "    \n",
    "for c in date_vars:\n",
    "    df = df.withColumn(c, df[c].cast(DateType()))\n",
    "    \n",
    "df.dtypes"
   ]
  },
  {
   "cell_type": "code",
   "execution_count": 24,
   "metadata": {},
   "outputs": [
    {
     "name": "stdout",
     "output_type": "stream",
     "text": [
      "+-----+---------+----------+------------+---------+--------------------+\n",
      "|   id|   budget|popularity|release_date|  revenue|               title|\n",
      "+-----+---------+----------+------------+---------+--------------------+\n",
      "|43000|      0.0|     2.503|  1962-05-23|      0.0|The Elusive Corporal|\n",
      "|43001|      0.0|      5.51|  1962-11-12|      0.0|  Sundays and Cybele|\n",
      "|43002|      0.0|      5.62|  1962-05-24|      0.0|Lonely Are the Brave|\n",
      "|43003|      0.0|     7.159|  1975-03-12|      0.0|          F for Fake|\n",
      "|43004| 500000.0|     3.988|  1962-10-09|      0.0|Long Day's Journe...|\n",
      "|43006|      0.0|     3.194|  1962-03-09|      0.0|           My Geisha|\n",
      "|43007|      0.0|     2.689|  1962-10-31|      0.0|Period of Adjustment|\n",
      "|43008|      0.0|     6.537|  1959-03-13|      0.0|    The Hanging Tree|\n",
      "|43010|      0.0|     4.297|  1962-01-01|      0.0|Sherlock Holmes a...|\n",
      "|43011|      0.0|     4.417|  1962-01-01|      0.0|  Sodom and Gomorrah|\n",
      "|43012|7000000.0|     4.722|  1962-11-21|4000000.0|         Taras Bulba|\n",
      "|43013|      0.0|     2.543|  1962-04-17|      0.0|The Counterfeit T...|\n",
      "|43014|      0.0|     4.303|  1962-10-24|      0.0|     Tower of London|\n",
      "|43015|      0.0|     3.493|  1962-12-07|      0.0|Varan the Unbelie...|\n",
      "|43016|      0.0|     2.851|  1962-01-01|      0.0|Waltz of the Tore...|\n",
      "|43017|      0.0|     4.047|  1961-10-11|      0.0|         Back Street|\n",
      "|43018|      0.0|     2.661|  1961-06-02|      0.0|Gidget Goes Hawaiian|\n",
      "|43019|      0.0|     3.225|  2010-05-28|      0.0|Schuks Tshabalala...|\n",
      "|43020|      0.0|      5.72|  1961-06-15|      0.0|The Colossus of R...|\n",
      "|43021|      0.0|     3.292|  2008-08-22|      0.0|          Sex Galaxy|\n",
      "+-----+---------+----------+------------+---------+--------------------+\n",
      "only showing top 20 rows\n",
      "\n"
     ]
    }
   ],
   "source": [
    "df.show()"
   ]
  },
  {
   "cell_type": "code",
   "execution_count": 25,
   "metadata": {},
   "outputs": [
    {
     "name": "stdout",
     "output_type": "stream",
     "text": [
      "+-------+------------------+--------------------+-----------------+-------------------+--------------------+\n",
      "|summary|                id|              budget|       popularity|            revenue|               title|\n",
      "+-------+------------------+--------------------+-----------------+-------------------+--------------------+\n",
      "|  count|             43784|               43873|            43783|              43783|               43694|\n",
      "|   mean|44502.304312077475|   3736901.834963167|5.295444259579189|  9697079.597382545|            Infinity|\n",
      "| stddev|27189.646588626394|1.5871814952777326E7|6.168030519208252|5.687938449628811E7|                 NaN|\n",
      "|    min|                 2|                 0.0|              0.6|                0.0|!Women Art Revolu...|\n",
      "|    max|            100988|               3.8E8|            180.0|       2.78796518E9|       시크릿 Secret|\n",
      "+-------+------------------+--------------------+-----------------+-------------------+--------------------+\n",
      "\n"
     ]
    }
   ],
   "source": [
    "df.describe().show()"
   ]
  },
  {
   "cell_type": "code",
   "execution_count": 26,
   "metadata": {},
   "outputs": [
    {
     "data": {
      "text/plain": [
       "[5000000.0]"
      ]
     },
     "execution_count": 26,
     "metadata": {},
     "output_type": "execute_result"
    }
   ],
   "source": [
    "df_temp = df.filter((col('budget') != 0) & \n",
    "                    (col('budget').isNotNull()) &\n",
    "                    (~isnan('budget')))\n",
    "\n",
    "median = df_temp.approxQuantile('budget', [0.5], 0.1)\n",
    "\n",
    "median"
   ]
  },
  {
   "cell_type": "code",
   "execution_count": 27,
   "metadata": {},
   "outputs": [
    {
     "name": "stdout",
     "output_type": "stream",
     "text": [
      "+-----+\n",
      "|count|\n",
      "+-----+\n",
      "|41138|\n",
      "+-----+\n",
      "\n"
     ]
    }
   ],
   "source": [
    "df.agg(countDistinct(col(\"title\")).alias(\"count\")).show()"
   ]
  },
  {
   "cell_type": "code",
   "execution_count": 28,
   "metadata": {},
   "outputs": [
    {
     "name": "stdout",
     "output_type": "stream",
     "text": [
      "+---------------------------------------------+\n",
      "|title                                        |\n",
      "+---------------------------------------------+\n",
      "|The Corn Is Green                            |\n",
      "|Meet The Browns - The Play                   |\n",
      "|Morenita, El Escandalo                       |\n",
      "|Father Takes a Wife                          |\n",
      "|The Werewolf of Washington                   |\n",
      "|My Wife Is a Gangster                        |\n",
      "|Depeche Mode: Touring the Angel Live in Milan|\n",
      "|A Woman Is a Woman                           |\n",
      "|History Is Made at Night                     |\n",
      "|Colombian Love                               |\n",
      "+---------------------------------------------+\n",
      "only showing top 10 rows\n",
      "\n"
     ]
    }
   ],
   "source": [
    "df.select('title').distinct().show(10,False)"
   ]
  },
  {
   "cell_type": "markdown",
   "metadata": {},
   "source": [
    "* Lấy ra năm của `DateType` bằng hàm `year()`."
   ]
  },
  {
   "cell_type": "code",
   "execution_count": 29,
   "metadata": {},
   "outputs": [
    {
     "name": "stdout",
     "output_type": "stream",
     "text": [
      "+-----+---------+----------+------------+---------+--------------------+------------+\n",
      "|   id|   budget|popularity|release_date|  revenue|               title|release_year|\n",
      "+-----+---------+----------+------------+---------+--------------------+------------+\n",
      "|43000|      0.0|     2.503|  1962-05-23|      0.0|The Elusive Corporal|        1962|\n",
      "|43001|      0.0|      5.51|  1962-11-12|      0.0|  Sundays and Cybele|        1962|\n",
      "|43002|      0.0|      5.62|  1962-05-24|      0.0|Lonely Are the Brave|        1962|\n",
      "|43003|      0.0|     7.159|  1975-03-12|      0.0|          F for Fake|        1975|\n",
      "|43004| 500000.0|     3.988|  1962-10-09|      0.0|Long Day's Journe...|        1962|\n",
      "|43006|      0.0|     3.194|  1962-03-09|      0.0|           My Geisha|        1962|\n",
      "|43007|      0.0|     2.689|  1962-10-31|      0.0|Period of Adjustment|        1962|\n",
      "|43008|      0.0|     6.537|  1959-03-13|      0.0|    The Hanging Tree|        1959|\n",
      "|43010|      0.0|     4.297|  1962-01-01|      0.0|Sherlock Holmes a...|        1962|\n",
      "|43011|      0.0|     4.417|  1962-01-01|      0.0|  Sodom and Gomorrah|        1962|\n",
      "|43012|7000000.0|     4.722|  1962-11-21|4000000.0|         Taras Bulba|        1962|\n",
      "|43013|      0.0|     2.543|  1962-04-17|      0.0|The Counterfeit T...|        1962|\n",
      "|43014|      0.0|     4.303|  1962-10-24|      0.0|     Tower of London|        1962|\n",
      "|43015|      0.0|     3.493|  1962-12-07|      0.0|Varan the Unbelie...|        1962|\n",
      "|43016|      0.0|     2.851|  1962-01-01|      0.0|Waltz of the Tore...|        1962|\n",
      "|43017|      0.0|     4.047|  1961-10-11|      0.0|         Back Street|        1961|\n",
      "|43018|      0.0|     2.661|  1961-06-02|      0.0|Gidget Goes Hawaiian|        1961|\n",
      "|43019|      0.0|     3.225|  2010-05-28|      0.0|Schuks Tshabalala...|        2010|\n",
      "|43020|      0.0|      5.72|  1961-06-15|      0.0|The Colossus of R...|        1961|\n",
      "|43021|      0.0|     3.292|  2008-08-22|      0.0|          Sex Galaxy|        2008|\n",
      "+-----+---------+----------+------------+---------+--------------------+------------+\n",
      "only showing top 20 rows\n",
      "\n"
     ]
    }
   ],
   "source": [
    "df_temp=df.withColumn('release_year',year('release_date'))\n",
    "df_temp.show()"
   ]
  },
  {
   "cell_type": "markdown",
   "metadata": {},
   "source": [
    "* Lấy ra tháng của `DateType` bằng hàm `month()`."
   ]
  },
  {
   "cell_type": "code",
   "execution_count": 30,
   "metadata": {},
   "outputs": [
    {
     "name": "stdout",
     "output_type": "stream",
     "text": [
      "+-----+---------+----------+------------+---------+--------------------+------------+-------------+\n",
      "|   id|   budget|popularity|release_date|  revenue|               title|release_year|release_momth|\n",
      "+-----+---------+----------+------------+---------+--------------------+------------+-------------+\n",
      "|43000|      0.0|     2.503|  1962-05-23|      0.0|The Elusive Corporal|        1962|            5|\n",
      "|43001|      0.0|      5.51|  1962-11-12|      0.0|  Sundays and Cybele|        1962|           11|\n",
      "|43002|      0.0|      5.62|  1962-05-24|      0.0|Lonely Are the Brave|        1962|            5|\n",
      "|43003|      0.0|     7.159|  1975-03-12|      0.0|          F for Fake|        1975|            3|\n",
      "|43004| 500000.0|     3.988|  1962-10-09|      0.0|Long Day's Journe...|        1962|           10|\n",
      "|43006|      0.0|     3.194|  1962-03-09|      0.0|           My Geisha|        1962|            3|\n",
      "|43007|      0.0|     2.689|  1962-10-31|      0.0|Period of Adjustment|        1962|           10|\n",
      "|43008|      0.0|     6.537|  1959-03-13|      0.0|    The Hanging Tree|        1959|            3|\n",
      "|43010|      0.0|     4.297|  1962-01-01|      0.0|Sherlock Holmes a...|        1962|            1|\n",
      "|43011|      0.0|     4.417|  1962-01-01|      0.0|  Sodom and Gomorrah|        1962|            1|\n",
      "|43012|7000000.0|     4.722|  1962-11-21|4000000.0|         Taras Bulba|        1962|           11|\n",
      "|43013|      0.0|     2.543|  1962-04-17|      0.0|The Counterfeit T...|        1962|            4|\n",
      "|43014|      0.0|     4.303|  1962-10-24|      0.0|     Tower of London|        1962|           10|\n",
      "|43015|      0.0|     3.493|  1962-12-07|      0.0|Varan the Unbelie...|        1962|           12|\n",
      "|43016|      0.0|     2.851|  1962-01-01|      0.0|Waltz of the Tore...|        1962|            1|\n",
      "|43017|      0.0|     4.047|  1961-10-11|      0.0|         Back Street|        1961|           10|\n",
      "|43018|      0.0|     2.661|  1961-06-02|      0.0|Gidget Goes Hawaiian|        1961|            6|\n",
      "|43019|      0.0|     3.225|  2010-05-28|      0.0|Schuks Tshabalala...|        2010|            5|\n",
      "|43020|      0.0|      5.72|  1961-06-15|      0.0|The Colossus of R...|        1961|            6|\n",
      "|43021|      0.0|     3.292|  2008-08-22|      0.0|          Sex Galaxy|        2008|            8|\n",
      "+-----+---------+----------+------------+---------+--------------------+------------+-------------+\n",
      "only showing top 20 rows\n",
      "\n"
     ]
    }
   ],
   "source": [
    "df_temp = df_temp.withColumn('release_momth', month('release_date'))\n",
    "\n",
    "df_temp.show()"
   ]
  },
  {
   "cell_type": "markdown",
   "metadata": {},
   "source": [
    "* Lấy ra ngày trong tháng từ `DateType` bằng hàm `dayofmonth()`."
   ]
  },
  {
   "cell_type": "code",
   "execution_count": 31,
   "metadata": {},
   "outputs": [
    {
     "name": "stdout",
     "output_type": "stream",
     "text": [
      "+-----+---------+----------+------------+---------+--------------------+------------+-------------+-----------+\n",
      "|   id|   budget|popularity|release_date|  revenue|               title|release_year|release_momth|release_day|\n",
      "+-----+---------+----------+------------+---------+--------------------+------------+-------------+-----------+\n",
      "|43000|      0.0|     2.503|  1962-05-23|      0.0|The Elusive Corporal|        1962|            5|         23|\n",
      "|43001|      0.0|      5.51|  1962-11-12|      0.0|  Sundays and Cybele|        1962|           11|         12|\n",
      "|43002|      0.0|      5.62|  1962-05-24|      0.0|Lonely Are the Brave|        1962|            5|         24|\n",
      "|43003|      0.0|     7.159|  1975-03-12|      0.0|          F for Fake|        1975|            3|         12|\n",
      "|43004| 500000.0|     3.988|  1962-10-09|      0.0|Long Day's Journe...|        1962|           10|          9|\n",
      "|43006|      0.0|     3.194|  1962-03-09|      0.0|           My Geisha|        1962|            3|          9|\n",
      "|43007|      0.0|     2.689|  1962-10-31|      0.0|Period of Adjustment|        1962|           10|         31|\n",
      "|43008|      0.0|     6.537|  1959-03-13|      0.0|    The Hanging Tree|        1959|            3|         13|\n",
      "|43010|      0.0|     4.297|  1962-01-01|      0.0|Sherlock Holmes a...|        1962|            1|          1|\n",
      "|43011|      0.0|     4.417|  1962-01-01|      0.0|  Sodom and Gomorrah|        1962|            1|          1|\n",
      "|43012|7000000.0|     4.722|  1962-11-21|4000000.0|         Taras Bulba|        1962|           11|         21|\n",
      "|43013|      0.0|     2.543|  1962-04-17|      0.0|The Counterfeit T...|        1962|            4|         17|\n",
      "|43014|      0.0|     4.303|  1962-10-24|      0.0|     Tower of London|        1962|           10|         24|\n",
      "|43015|      0.0|     3.493|  1962-12-07|      0.0|Varan the Unbelie...|        1962|           12|          7|\n",
      "|43016|      0.0|     2.851|  1962-01-01|      0.0|Waltz of the Tore...|        1962|            1|          1|\n",
      "|43017|      0.0|     4.047|  1961-10-11|      0.0|         Back Street|        1961|           10|         11|\n",
      "|43018|      0.0|     2.661|  1961-06-02|      0.0|Gidget Goes Hawaiian|        1961|            6|          2|\n",
      "|43019|      0.0|     3.225|  2010-05-28|      0.0|Schuks Tshabalala...|        2010|            5|         28|\n",
      "|43020|      0.0|      5.72|  1961-06-15|      0.0|The Colossus of R...|        1961|            6|         15|\n",
      "|43021|      0.0|     3.292|  2008-08-22|      0.0|          Sex Galaxy|        2008|            8|         22|\n",
      "+-----+---------+----------+------------+---------+--------------------+------------+-------------+-----------+\n",
      "only showing top 20 rows\n",
      "\n"
     ]
    }
   ],
   "source": [
    "df_temp = df_temp.withColumn('release_day', dayofmonth('release_date'))\n",
    "df_temp.show()"
   ]
  },
  {
   "cell_type": "markdown",
   "metadata": {},
   "source": [
    "* Nhóm theo năm và đếm."
   ]
  },
  {
   "cell_type": "code",
   "execution_count": 32,
   "metadata": {},
   "outputs": [
    {
     "name": "stdout",
     "output_type": "stream",
     "text": [
      "+------------+-----+\n",
      "|release_year|count|\n",
      "+------------+-----+\n",
      "|        1959|  271|\n",
      "|        1990|  496|\n",
      "|        1975|  365|\n",
      "|        1977|  415|\n",
      "|        1924|   19|\n",
      "|        2003| 1202|\n",
      "|        2007| 1901|\n",
      "|        2018|    4|\n",
      "|        1974|  434|\n",
      "|        2015|   13|\n",
      "|        1927|   30|\n",
      "|        1955|  247|\n",
      "|        2006| 1721|\n",
      "|        1978|  385|\n",
      "|        1925|   26|\n",
      "|        1961|  242|\n",
      "|        2013|  106|\n",
      "|        1942|  202|\n",
      "|        1944|  144|\n",
      "|        1939|  147|\n",
      "+------------+-----+\n",
      "only showing top 20 rows\n",
      "\n"
     ]
    }
   ],
   "source": [
    "df_temp.groupBy('release_year').count().show()"
   ]
  },
  {
   "cell_type": "code",
   "execution_count": 33,
   "metadata": {},
   "outputs": [
    {
     "name": "stderr",
     "output_type": "stream",
     "text": [
      "                                                                                \r"
     ]
    },
    {
     "name": "stdout",
     "output_type": "stream",
     "text": [
      "+------------+------------+\n",
      "|release_year|count(title)|\n",
      "+------------+------------+\n",
      "|        1959|         271|\n",
      "|        1990|         496|\n",
      "|        1975|         365|\n",
      "|        1977|         415|\n",
      "|        1924|          19|\n",
      "|        2003|        1199|\n",
      "|        2007|        1896|\n",
      "|        2018|           4|\n",
      "|        1974|         434|\n",
      "|        2015|          13|\n",
      "|        1927|          30|\n",
      "|        1955|         247|\n",
      "|        2006|        1719|\n",
      "|        1978|         385|\n",
      "|        1925|          26|\n",
      "|        1961|         242|\n",
      "|        2013|         106|\n",
      "|        1942|         202|\n",
      "|        1939|         147|\n",
      "|        1944|         144|\n",
      "+------------+------------+\n",
      "only showing top 20 rows\n",
      "\n"
     ]
    }
   ],
   "source": [
    "df_temp.groupBy('release_year').agg(countDistinct('title')).show()"
   ]
  },
  {
   "cell_type": "markdown",
   "metadata": {},
   "source": [
    "# Lọc\n",
    "* Có thể lọc dữ liệu bằng hàm:\n",
    "  * `where()`: lọc theo style SQL.\n",
    "  * `filter()`: lọc theo lambda method. "
   ]
  },
  {
   "cell_type": "markdown",
   "metadata": {},
   "source": [
    "/ Lọc ra các record mà có `title` bắt đầu bằng \"Meet\"."
   ]
  },
  {
   "cell_type": "code",
   "execution_count": 34,
   "metadata": {},
   "outputs": [
    {
     "name": "stdout",
     "output_type": "stream",
     "text": [
      "+-----+---------+----------+------------+------------+--------------------+\n",
      "|   id|   budget|popularity|release_date|     revenue|               title|\n",
      "+-----+---------+----------+------------+------------+--------------------+\n",
      "|43957| 500000.0|     2.649|  2005-06-28|   1000000.0|Meet The Browns -...|\n",
      "|39997|      0.0|     3.585|  1989-11-15|         0.0|Meet the Hollowheads|\n",
      "|16710|      0.0|    11.495|  2008-03-21| 4.1939392E7|     Meet the Browns|\n",
      "|20430|      0.0|     3.614|  2004-01-29|         0.0|         Meet Market|\n",
      "|76435|      0.0|     1.775|  2011-03-31|         0.0|    Meet the In-Laws|\n",
      "|76516|5000000.0|      4.05|  1990-11-08|    485772.0| Meet the Applegates|\n",
      "| 7278|    3.0E7|    11.116|  2008-01-24| 8.4646832E7|   Meet the Spartans|\n",
      "|32574|      0.0|      7.42|  1941-03-14|         0.0|       Meet John Doe|\n",
      "|40506|      0.0|     4.814|  1997-01-31|         0.0|   Meet Wally Sparks|\n",
      "|40688|    2.4E7|     6.848|  1998-03-27|   4562146.0|    Meet the Deedles|\n",
      "|58401|      0.0|     6.461|  2010-11-12|         0.0|      Meet My Friend|\n",
      "|19362|      0.0|     4.246|  1998-03-20|         0.0|Meeting People Is...|\n",
      "|11260|    6.0E7|    15.534|  2008-07-08|  5.065008E7|           Meet Dave|\n",
      "|97082|      0.0|     1.042|  2011-12-01|         0.0|    Meet the Fokkens|\n",
      "|97822|      0.0|     1.333|  1942-05-21|         0.0|   Meet the Stewarts|\n",
      "|57021|      0.0|     2.525|  2005-08-10|         0.0|   Meet the Mobsters|\n",
      "|13243|5000000.0|     9.385|  2007-09-07|    346592.0|           Meet Bill|\n",
      "|61656|      0.0|      0.84|  2002-01-01|         0.0|Meet Prince Charming|\n",
      "|71356|      0.0|     1.814|  1949-03-16|         0.0| Meeting on the Elbe|\n",
      "|  297|    9.0E7|    15.651|  1998-11-12|1.42940096E8|      Meet Joe Black|\n",
      "+-----+---------+----------+------------+------------+--------------------+\n",
      "only showing top 20 rows\n",
      "\n"
     ]
    }
   ],
   "source": [
    "df.filter(col('title').like('Meet%')).show()"
   ]
  },
  {
   "cell_type": "markdown",
   "metadata": {},
   "source": [
    "/ Lọc ra các record mà có `title` **không kết thúc bằng** kí tự \"s\"."
   ]
  },
  {
   "cell_type": "code",
   "execution_count": 35,
   "metadata": {},
   "outputs": [
    {
     "name": "stdout",
     "output_type": "stream",
     "text": [
      "+-----+--------+----------+------------+-------+---------------------------------------+\n",
      "|id   |budget  |popularity|release_date|revenue|title                                  |\n",
      "+-----+--------+----------+------------+-------+---------------------------------------+\n",
      "|43000|0.0     |2.503     |1962-05-23  |0.0    |The Elusive Corporal                   |\n",
      "|43001|0.0     |5.51      |1962-11-12  |0.0    |Sundays and Cybele                     |\n",
      "|43002|0.0     |5.62      |1962-05-24  |0.0    |Lonely Are the Brave                   |\n",
      "|43003|0.0     |7.159     |1975-03-12  |0.0    |F for Fake                             |\n",
      "|43004|500000.0|3.988     |1962-10-09  |0.0    |Long Day's Journey Into Night          |\n",
      "|43006|0.0     |3.194     |1962-03-09  |0.0    |My Geisha                              |\n",
      "|43007|0.0     |2.689     |1962-10-31  |0.0    |Period of Adjustment                   |\n",
      "|43008|0.0     |6.537     |1959-03-13  |0.0    |The Hanging Tree                       |\n",
      "|43010|0.0     |4.297     |1962-01-01  |0.0    |Sherlock Holmes and the Deadly Necklace|\n",
      "|43011|0.0     |4.417     |1962-01-01  |0.0    |Sodom and Gomorrah                     |\n",
      "+-----+--------+----------+------------+-------+---------------------------------------+\n",
      "only showing top 10 rows\n",
      "\n"
     ]
    }
   ],
   "source": [
    "df.filter(~col('title').like('%s')).show(10, False)"
   ]
  },
  {
   "cell_type": "markdown",
   "metadata": {},
   "source": [
    "/ Kết hợp với Regex để lọc ra các record mà có record mà chứa chuổi \"ove\" trong `title`."
   ]
  },
  {
   "cell_type": "code",
   "execution_count": 36,
   "metadata": {},
   "outputs": [
    {
     "name": "stdout",
     "output_type": "stream",
     "text": [
      "+-----+------+----------+------------+------------+--------------------+\n",
      "|   id|budget|popularity|release_date|     revenue|               title|\n",
      "+-----+------+----------+------------+------------+--------------------+\n",
      "|43100|   0.0|     7.252|  1959-10-07|         0.0|General Della Rovere|\n",
      "|43152|   0.0|     5.126|  2001-06-21|         0.0|      Love on a Diet|\n",
      "|43191|   0.0|     4.921|  1952-08-29|         0.0|   Beware, My Lovely|\n",
      "|43281|   0.0|     2.411|  1989-11-22|         0.0|   Love Without Pity|\n",
      "|43343|   0.0|     3.174|  1953-12-25|         0.0|        Easy to Love|\n",
      "|43347| 3.0E7|    14.863|  2010-11-22|1.02820008E8|  Love & Other Drugs|\n",
      "|43362|   0.0|     1.705|  1952-02-23|         0.0|Love Is Better Th...|\n",
      "|43363|   0.0|      2.02|  1952-05-29|         0.0|   Lovely to Look At|\n",
      "|43395|   0.0|     4.758|  1950-11-10|         0.0| Two Weeks with Love|\n",
      "|43455|   0.0|     4.669|  1948-08-23|         0.0| The Loves of Carmen|\n",
      "|43483|   0.0|     3.161|  1946-12-25|         0.0|Love Laughs at An...|\n",
      "|43547|   0.0|     7.635|  2009-01-30|         0.0|Between Love & Go...|\n",
      "|43556|   0.0|     2.418|  2006-10-31|         0.0|Joe Satriani - Li...|\n",
      "|43561|   0.0|     8.475|  2004-12-17|         0.0|   Christmas in Love|\n",
      "|43609|   0.0|     5.684|  2010-04-07|         0.0|    My Own Love Song|\n",
      "|43652|   0.0|     3.097|  2009-11-19|         0.0| Beloved Berlin Wall|\n",
      "|43739|   0.0|     4.514|  1939-04-07|         0.0|         Love Affair|\n",
      "|43742| 6.0E7|     3.723|  1994-10-21|         0.0|         Love Affair|\n",
      "|43764|   0.0|      0.73|  2006-01-01|         0.0|The Fish Fall in ...|\n",
      "|43787|   0.0|     5.769|  1942-11-19|         0.0|You Were Never Lo...|\n",
      "+-----+------+----------+------------+------------+--------------------+\n",
      "only showing top 20 rows\n",
      "\n"
     ]
    }
   ],
   "source": [
    "# cách 1\n",
    "df.filter(col('title').rlike(\"\\w*ove\")).show()"
   ]
  },
  {
   "cell_type": "code",
   "execution_count": 37,
   "metadata": {},
   "outputs": [
    {
     "name": "stdout",
     "output_type": "stream",
     "text": [
      "+-----+------+----------+------------+------------+--------------------+\n",
      "|   id|budget|popularity|release_date|     revenue|               title|\n",
      "+-----+------+----------+------------+------------+--------------------+\n",
      "|43100|   0.0|     7.252|  1959-10-07|         0.0|General Della Rovere|\n",
      "|43152|   0.0|     5.126|  2001-06-21|         0.0|      Love on a Diet|\n",
      "|43191|   0.0|     4.921|  1952-08-29|         0.0|   Beware, My Lovely|\n",
      "|43281|   0.0|     2.411|  1989-11-22|         0.0|   Love Without Pity|\n",
      "|43343|   0.0|     3.174|  1953-12-25|         0.0|        Easy to Love|\n",
      "|43347| 3.0E7|    14.863|  2010-11-22|1.02820008E8|  Love & Other Drugs|\n",
      "|43362|   0.0|     1.705|  1952-02-23|         0.0|Love Is Better Th...|\n",
      "|43363|   0.0|      2.02|  1952-05-29|         0.0|   Lovely to Look At|\n",
      "|43395|   0.0|     4.758|  1950-11-10|         0.0| Two Weeks with Love|\n",
      "|43455|   0.0|     4.669|  1948-08-23|         0.0| The Loves of Carmen|\n",
      "|43483|   0.0|     3.161|  1946-12-25|         0.0|Love Laughs at An...|\n",
      "|43547|   0.0|     7.635|  2009-01-30|         0.0|Between Love & Go...|\n",
      "|43556|   0.0|     2.418|  2006-10-31|         0.0|Joe Satriani - Li...|\n",
      "|43561|   0.0|     8.475|  2004-12-17|         0.0|   Christmas in Love|\n",
      "|43609|   0.0|     5.684|  2010-04-07|         0.0|    My Own Love Song|\n",
      "|43652|   0.0|     3.097|  2009-11-19|         0.0| Beloved Berlin Wall|\n",
      "|43739|   0.0|     4.514|  1939-04-07|         0.0|         Love Affair|\n",
      "|43742| 6.0E7|     3.723|  1994-10-21|         0.0|         Love Affair|\n",
      "|43764|   0.0|      0.73|  2006-01-01|         0.0|The Fish Fall in ...|\n",
      "|43787|   0.0|     5.769|  1942-11-19|         0.0|You Were Never Lo...|\n",
      "+-----+------+----------+------------+------------+--------------------+\n",
      "only showing top 20 rows\n",
      "\n"
     ]
    }
   ],
   "source": [
    "# cách 2\n",
    "df.filter(df.title.contains(\"ove\")).show()"
   ]
  },
  {
   "cell_type": "markdown",
   "metadata": {},
   "source": [
    "/ Lọc ra các cột mà tên cột **bắt đầu** bằng chuổi \"re\"."
   ]
  },
  {
   "cell_type": "code",
   "execution_count": 38,
   "metadata": {},
   "outputs": [
    {
     "name": "stdout",
     "output_type": "stream",
     "text": [
      "root\n",
      " |-- release_date: date (nullable = true)\n",
      " |-- revenue: float (nullable = true)\n",
      "\n"
     ]
    }
   ],
   "source": [
    "df.select(df.colRegex(\"`re\\w*`\")).printSchema()"
   ]
  },
  {
   "cell_type": "markdown",
   "metadata": {},
   "source": [
    "/ Lọc ra các cột mà có tên cột **kết thúc** bằng kí tự \"e\"."
   ]
  },
  {
   "cell_type": "code",
   "execution_count": 39,
   "metadata": {},
   "outputs": [
    {
     "name": "stdout",
     "output_type": "stream",
     "text": [
      "root\n",
      " |-- release_date: date (nullable = true)\n",
      " |-- revenue: float (nullable = true)\n",
      " |-- title: string (nullable = true)\n",
      "\n"
     ]
    }
   ],
   "source": [
    "df.select(df.colRegex(\"`\\w*e`\")).printSchema()"
   ]
  },
  {
   "cell_type": "markdown",
   "metadata": {},
   "source": [
    "* <span style=\"color: red\">Xem thêm nhắc nhở của tác giá về Regex tại trang 54.</span>"
   ]
  },
  {
   "cell_type": "markdown",
   "metadata": {},
   "source": [
    "# Tạo cột mới"
   ]
  },
  {
   "cell_type": "markdown",
   "metadata": {},
   "source": [
    "* Giả sử bây giờ ta cần tính phương sai theo công thức sau:\n",
    "  $$S^2 = \\sum \\dfrac{(X_i - \\overline{X})^2}{(n - 1)}$$"
   ]
  },
  {
   "cell_type": "markdown",
   "metadata": {},
   "source": [
    "* Tính mean"
   ]
  },
  {
   "cell_type": "code",
   "execution_count": 40,
   "metadata": {},
   "outputs": [
    {
     "data": {
      "text/plain": [
       "5.295444259579189"
      ]
     },
     "execution_count": 40,
     "metadata": {},
     "output_type": "execute_result"
    }
   ],
   "source": [
    "mean_pop=df.agg({'popularity': 'mean'}).collect()[0]['avg(popularity)']\n",
    "count_obs= df.count()\n",
    "\n",
    "mean_pop"
   ]
  },
  {
   "cell_type": "code",
   "execution_count": 41,
   "metadata": {},
   "outputs": [
    {
     "data": {
      "text/plain": [
       "43998"
      ]
     },
     "execution_count": 41,
     "metadata": {},
     "output_type": "execute_result"
    }
   ],
   "source": [
    "count_obs"
   ]
  },
  {
   "cell_type": "code",
   "execution_count": 44,
   "metadata": {},
   "outputs": [
    {
     "name": "stdout",
     "output_type": "stream",
     "text": [
      "+-----+---------+----------+------------+---------+--------------------+-----------------+\n",
      "|   id|   budget|popularity|release_date|  revenue|               title|  mean_popularity|\n",
      "+-----+---------+----------+------------+---------+--------------------+-----------------+\n",
      "|43000|      0.0|     2.503|  1962-05-23|      0.0|The Elusive Corporal|5.295444259579189|\n",
      "|43001|      0.0|      5.51|  1962-11-12|      0.0|  Sundays and Cybele|5.295444259579189|\n",
      "|43002|      0.0|      5.62|  1962-05-24|      0.0|Lonely Are the Brave|5.295444259579189|\n",
      "|43003|      0.0|     7.159|  1975-03-12|      0.0|          F for Fake|5.295444259579189|\n",
      "|43004| 500000.0|     3.988|  1962-10-09|      0.0|Long Day's Journe...|5.295444259579189|\n",
      "|43006|      0.0|     3.194|  1962-03-09|      0.0|           My Geisha|5.295444259579189|\n",
      "|43007|      0.0|     2.689|  1962-10-31|      0.0|Period of Adjustment|5.295444259579189|\n",
      "|43008|      0.0|     6.537|  1959-03-13|      0.0|    The Hanging Tree|5.295444259579189|\n",
      "|43010|      0.0|     4.297|  1962-01-01|      0.0|Sherlock Holmes a...|5.295444259579189|\n",
      "|43011|      0.0|     4.417|  1962-01-01|      0.0|  Sodom and Gomorrah|5.295444259579189|\n",
      "|43012|7000000.0|     4.722|  1962-11-21|4000000.0|         Taras Bulba|5.295444259579189|\n",
      "|43013|      0.0|     2.543|  1962-04-17|      0.0|The Counterfeit T...|5.295444259579189|\n",
      "|43014|      0.0|     4.303|  1962-10-24|      0.0|     Tower of London|5.295444259579189|\n",
      "|43015|      0.0|     3.493|  1962-12-07|      0.0|Varan the Unbelie...|5.295444259579189|\n",
      "|43016|      0.0|     2.851|  1962-01-01|      0.0|Waltz of the Tore...|5.295444259579189|\n",
      "|43017|      0.0|     4.047|  1961-10-11|      0.0|         Back Street|5.295444259579189|\n",
      "|43018|      0.0|     2.661|  1961-06-02|      0.0|Gidget Goes Hawaiian|5.295444259579189|\n",
      "|43019|      0.0|     3.225|  2010-05-28|      0.0|Schuks Tshabalala...|5.295444259579189|\n",
      "|43020|      0.0|      5.72|  1961-06-15|      0.0|The Colossus of R...|5.295444259579189|\n",
      "|43021|      0.0|     3.292|  2008-08-22|      0.0|          Sex Galaxy|5.295444259579189|\n",
      "+-----+---------+----------+------------+---------+--------------------+-----------------+\n",
      "only showing top 20 rows\n",
      "\n"
     ]
    }
   ],
   "source": [
    "df = df.withColumn(\"mean_popularity\", lit(mean_pop))\n",
    "df.show()"
   ]
  },
  {
   "cell_type": "code",
   "execution_count": 47,
   "metadata": {},
   "outputs": [
    {
     "data": {
      "text/plain": [
       "37.858688057662825"
      ]
     },
     "execution_count": 47,
     "metadata": {},
     "output_type": "execute_result"
    }
   ],
   "source": [
    "df = df.withColumn('variance', pow(col('popularity') - col('mean_popularity'), 2))\n",
    "variance_sum = df.agg({'variance': 'sum'}).collect()[0]['sum(variance)']\n",
    "variance_population = variance_sum / (count_obs - 1)\n",
    "\n",
    "variance_population"
   ]
  },
  {
   "cell_type": "code",
   "execution_count": 48,
   "metadata": {},
   "outputs": [],
   "source": [
    "def new_cols(budget, popularity):\n",
    "    if budget<10000000: budget_cat='Small'\n",
    "    elif budget<100000000: budget_cat='Medium'\n",
    "    else: budget_cat='Big'\n",
    "    \n",
    "    if popularity<3: ratings='Low'\n",
    "    elif popularity<5: ratings='Mid'\n",
    "    else: ratings='High'\n",
    "    \n",
    "    return budget_cat, ratings"
   ]
  },
  {
   "cell_type": "code",
   "execution_count": 49,
   "metadata": {},
   "outputs": [],
   "source": [
    "udfB = udf(new_cols, StructType(\n",
    "    [StructField('budget_cat', StringType(), True),\n",
    "     StructField('ratings', StringType(), True)]))"
   ]
  },
  {
   "cell_type": "code",
   "execution_count": 50,
   "metadata": {},
   "outputs": [
    {
     "name": "stdout",
     "output_type": "stream",
     "text": [
      "+-----+---------+----------+-------------+\n",
      "|   id|   budget|popularity|       newcat|\n",
      "+-----+---------+----------+-------------+\n",
      "|43000|      0.0|     2.503| [Small, Low]|\n",
      "|43001|      0.0|      5.51|[Small, High]|\n",
      "|43002|      0.0|      5.62|[Small, High]|\n",
      "|43003|      0.0|     7.159|[Small, High]|\n",
      "|43004| 500000.0|     3.988| [Small, Mid]|\n",
      "|43006|      0.0|     3.194| [Small, Mid]|\n",
      "|43007|      0.0|     2.689| [Small, Low]|\n",
      "|43008|      0.0|     6.537|[Small, High]|\n",
      "|43010|      0.0|     4.297| [Small, Mid]|\n",
      "|43011|      0.0|     4.417| [Small, Mid]|\n",
      "|43012|7000000.0|     4.722| [Small, Mid]|\n",
      "|43013|      0.0|     2.543| [Small, Low]|\n",
      "|43014|      0.0|     4.303| [Small, Mid]|\n",
      "|43015|      0.0|     3.493| [Small, Mid]|\n",
      "|43016|      0.0|     2.851| [Small, Low]|\n",
      "|43017|      0.0|     4.047| [Small, Mid]|\n",
      "|43018|      0.0|     2.661| [Small, Low]|\n",
      "|43019|      0.0|     3.225| [Small, Mid]|\n",
      "|43020|      0.0|      5.72|[Small, High]|\n",
      "|43021|      0.0|     3.292| [Small, Mid]|\n",
      "+-----+---------+----------+-------------+\n",
      "only showing top 20 rows\n",
      "\n"
     ]
    }
   ],
   "source": [
    "temp_df = df.select('id', 'budget', 'popularity')\\\n",
    "            .withColumn('newcat', udfB('budget', 'popularity'))\n",
    "            \n",
    "temp_df.show()"
   ]
  },
  {
   "cell_type": "code",
   "execution_count": 53,
   "metadata": {},
   "outputs": [
    {
     "name": "stdout",
     "output_type": "stream",
     "text": [
      "+-----+---------+----------+----------+-------+\n",
      "|id   |budget   |popularity|budget_cat|ratings|\n",
      "+-----+---------+----------+----------+-------+\n",
      "|43000|0.0      |2.503     |Small     |Low    |\n",
      "|43001|0.0      |5.51      |Small     |High   |\n",
      "|43002|0.0      |5.62      |Small     |High   |\n",
      "|43003|0.0      |7.159     |Small     |High   |\n",
      "|43004|500000.0 |3.988     |Small     |Mid    |\n",
      "|43006|0.0      |3.194     |Small     |Mid    |\n",
      "|43007|0.0      |2.689     |Small     |Low    |\n",
      "|43008|0.0      |6.537     |Small     |High   |\n",
      "|43010|0.0      |4.297     |Small     |Mid    |\n",
      "|43011|0.0      |4.417     |Small     |Mid    |\n",
      "|43012|7000000.0|4.722     |Small     |Mid    |\n",
      "|43013|0.0      |2.543     |Small     |Low    |\n",
      "|43014|0.0      |4.303     |Small     |Mid    |\n",
      "|43015|0.0      |3.493     |Small     |Mid    |\n",
      "|43016|0.0      |2.851     |Small     |Low    |\n",
      "|43017|0.0      |4.047     |Small     |Mid    |\n",
      "|43018|0.0      |2.661     |Small     |Low    |\n",
      "|43019|0.0      |3.225     |Small     |Mid    |\n",
      "|43020|0.0      |5.72      |Small     |High   |\n",
      "|43021|0.0      |3.292     |Small     |Mid    |\n",
      "+-----+---------+----------+----------+-------+\n",
      "only showing top 20 rows\n",
      "\n"
     ]
    }
   ],
   "source": [
    "df_with_newcols = temp_df.select('id', 'budget', 'popularity', 'newcat')\\\n",
    "                            .withColumn('budget_cat', col('newcat').getItem('budget_cat'))\\\n",
    "                            .withColumn('ratings', col('newcat').getItem('ratings'))\\\n",
    "                            .drop('newcat')\n",
    "                            \n",
    "df_with_newcols.show(truncate=False)"
   ]
  },
  {
   "cell_type": "code",
   "execution_count": 55,
   "metadata": {},
   "outputs": [
    {
     "name": "stdout",
     "output_type": "stream",
     "text": [
      "+-----------+---------------+\n",
      "|film_budget|film_popularity|\n",
      "+-----------+---------------+\n",
      "|        0.0|          2.503|\n",
      "|        0.0|           5.51|\n",
      "|        0.0|           5.62|\n",
      "|        0.0|          7.159|\n",
      "|   500000.0|          3.988|\n",
      "|        0.0|          3.194|\n",
      "|        0.0|          2.689|\n",
      "|        0.0|          6.537|\n",
      "|        0.0|          4.297|\n",
      "|        0.0|          4.417|\n",
      "|  7000000.0|          4.722|\n",
      "|        0.0|          2.543|\n",
      "|        0.0|          4.303|\n",
      "|        0.0|          3.493|\n",
      "|        0.0|          2.851|\n",
      "|        0.0|          4.047|\n",
      "|        0.0|          2.661|\n",
      "|        0.0|          3.225|\n",
      "|        0.0|           5.72|\n",
      "|        0.0|          3.292|\n",
      "+-----------+---------------+\n",
      "only showing top 20 rows\n",
      "\n"
     ]
    }
   ],
   "source": [
    "columns_to_drop = ['budget_cat']\n",
    "df_with_newcols = df_with_newcols.drop(*columns_to_drop)\n",
    "df_with_newcols = df_with_newcols.withColumnRenamed('id', 'film_id')\\\n",
    "                                    .withColumnRenamed('ratings', 'film_ratings')\n",
    "                                    \n",
    "new_names = [('budget', 'film_budget'), ('popularity', 'film_popularity')]\n",
    "df_with_newcols_renamed = df_with_newcols\\\n",
    "        .select(list(map(lambda old, new: col(old).alias(new), *zip(*new_names))))\n",
    "        \n",
    "df_with_newcols_renamed.show()"
   ]
  },
  {
   "cell_type": "code",
   "execution_count": null,
   "metadata": {},
   "outputs": [],
   "source": []
  }
 ],
 "metadata": {
  "interpreter": {
   "hash": "8d9af65d782dbd37fec13b95660a3f96d11b2648e2cfc799a970c340749ecbb7"
  },
  "kernelspec": {
   "display_name": "Python 3.7.11 64-bit ('pyspark_env': conda)",
   "language": "python",
   "name": "python3"
  },
  "language_info": {
   "codemirror_mode": {
    "name": "ipython",
    "version": 3
   },
   "file_extension": ".py",
   "mimetype": "text/x-python",
   "name": "python",
   "nbconvert_exporter": "python",
   "pygments_lexer": "ipython3",
   "version": "3.7.11"
  },
  "orig_nbformat": 4
 },
 "nbformat": 4,
 "nbformat_minor": 2
}
