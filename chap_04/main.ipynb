{
 "cells": [
  {
   "cell_type": "code",
   "execution_count": 1,
   "metadata": {},
   "outputs": [],
   "source": [
    "filename = \"./bank-full.csv\"\n",
    "target_variable_name = 'y'"
   ]
  },
  {
   "cell_type": "code",
   "execution_count": 2,
   "metadata": {},
   "outputs": [
    {
     "name": "stderr",
     "output_type": "stream",
     "text": [
      "22/01/21 12:12:28 WARN Utils: Your hostname, Rose resolves to a loopback address: 127.0.1.1; using 192.168.1.14 instead (on interface enp3s0)\n",
      "22/01/21 12:12:28 WARN Utils: Set SPARK_LOCAL_IP if you need to bind to another address\n",
      "WARNING: An illegal reflective access operation has occurred\n",
      "WARNING: Illegal reflective access by org.apache.spark.unsafe.Platform (file:/opt/spark-3.0.3/jars/spark-unsafe_2.12-3.0.3.jar) to constructor java.nio.DirectByteBuffer(long,int)\n",
      "WARNING: Please consider reporting this to the maintainers of org.apache.spark.unsafe.Platform\n",
      "WARNING: Use --illegal-access=warn to enable warnings of further illegal reflective access operations\n",
      "WARNING: All illegal access operations will be denied in a future release\n",
      "22/01/21 12:12:29 WARN NativeCodeLoader: Unable to load native-hadoop library for your platform... using builtin-java classes where applicable\n",
      "Using Spark's default log4j profile: org/apache/spark/log4j-defaults.properties\n",
      "Setting default log level to \"WARN\".\n",
      "To adjust logging level use sc.setLogLevel(newLevel). For SparkR, use setLogLevel(newLevel).\n"
     ]
    }
   ],
   "source": [
    "from pyspark.sql import SparkSession\n",
    "\n",
    "spark = SparkSession.builder.getOrCreate()"
   ]
  },
  {
   "cell_type": "code",
   "execution_count": 3,
   "metadata": {},
   "outputs": [
    {
     "name": "stderr",
     "output_type": "stream",
     "text": [
      "                                                                                \r"
     ]
    },
    {
     "name": "stdout",
     "output_type": "stream",
     "text": [
      "+---+------------+--------+---------+-------+-------+-------+----+-------+---+-----+--------+--------+-----+--------+--------+---+\n",
      "|age|         job| marital|education|default|balance|housing|loan|contact|day|month|duration|campaign|pdays|previous|poutcome|  y|\n",
      "+---+------------+--------+---------+-------+-------+-------+----+-------+---+-----+--------+--------+-----+--------+--------+---+\n",
      "| 58|  management| married| tertiary|     no|   2143|    yes|  no|unknown|  5|  may|     261|       1|   -1|       0| unknown| no|\n",
      "| 44|  technician|  single|secondary|     no|     29|    yes|  no|unknown|  5|  may|     151|       1|   -1|       0| unknown| no|\n",
      "| 33|entrepreneur| married|secondary|     no|      2|    yes| yes|unknown|  5|  may|      76|       1|   -1|       0| unknown| no|\n",
      "| 47| blue-collar| married|  unknown|     no|   1506|    yes|  no|unknown|  5|  may|      92|       1|   -1|       0| unknown| no|\n",
      "| 33|     unknown|  single|  unknown|     no|      1|     no|  no|unknown|  5|  may|     198|       1|   -1|       0| unknown| no|\n",
      "| 35|  management| married| tertiary|     no|    231|    yes|  no|unknown|  5|  may|     139|       1|   -1|       0| unknown| no|\n",
      "| 28|  management|  single| tertiary|     no|    447|    yes| yes|unknown|  5|  may|     217|       1|   -1|       0| unknown| no|\n",
      "| 42|entrepreneur|divorced| tertiary|    yes|      2|    yes|  no|unknown|  5|  may|     380|       1|   -1|       0| unknown| no|\n",
      "| 58|     retired| married|  primary|     no|    121|    yes|  no|unknown|  5|  may|      50|       1|   -1|       0| unknown| no|\n",
      "| 43|  technician|  single|secondary|     no|    593|    yes|  no|unknown|  5|  may|      55|       1|   -1|       0| unknown| no|\n",
      "+---+------------+--------+---------+-------+-------+-------+----+-------+---+-----+--------+--------+-----+--------+--------+---+\n",
      "only showing top 10 rows\n",
      "\n"
     ]
    }
   ],
   "source": [
    "df = spark.read.csv(filename, header=True, inferSchema=True, sep=';')\n",
    "df.show(10)"
   ]
  },
  {
   "cell_type": "code",
   "execution_count": 4,
   "metadata": {},
   "outputs": [
    {
     "data": {
      "text/plain": [
       "45211"
      ]
     },
     "execution_count": 4,
     "metadata": {},
     "output_type": "execute_result"
    }
   ],
   "source": [
    "df.count()"
   ]
  },
  {
   "cell_type": "code",
   "execution_count": 5,
   "metadata": {},
   "outputs": [
    {
     "name": "stderr",
     "output_type": "stream",
     "text": [
      "                                                                                \r"
     ]
    },
    {
     "data": {
      "text/html": [
       "<div>\n",
       "<style scoped>\n",
       "    .dataframe tbody tr th:only-of-type {\n",
       "        vertical-align: middle;\n",
       "    }\n",
       "\n",
       "    .dataframe tbody tr th {\n",
       "        vertical-align: top;\n",
       "    }\n",
       "\n",
       "    .dataframe thead th {\n",
       "        text-align: right;\n",
       "    }\n",
       "</style>\n",
       "<table border=\"1\" class=\"dataframe\">\n",
       "  <thead>\n",
       "    <tr style=\"text-align: right;\">\n",
       "      <th></th>\n",
       "      <th>summary</th>\n",
       "      <th>age</th>\n",
       "      <th>job</th>\n",
       "      <th>marital</th>\n",
       "      <th>education</th>\n",
       "      <th>default</th>\n",
       "      <th>balance</th>\n",
       "      <th>housing</th>\n",
       "      <th>loan</th>\n",
       "      <th>contact</th>\n",
       "      <th>day</th>\n",
       "      <th>month</th>\n",
       "      <th>duration</th>\n",
       "      <th>campaign</th>\n",
       "      <th>pdays</th>\n",
       "      <th>previous</th>\n",
       "      <th>poutcome</th>\n",
       "      <th>y</th>\n",
       "    </tr>\n",
       "  </thead>\n",
       "  <tbody>\n",
       "    <tr>\n",
       "      <th>0</th>\n",
       "      <td>count</td>\n",
       "      <td>45211</td>\n",
       "      <td>45211</td>\n",
       "      <td>45211</td>\n",
       "      <td>45211</td>\n",
       "      <td>45211</td>\n",
       "      <td>45211</td>\n",
       "      <td>45211</td>\n",
       "      <td>45211</td>\n",
       "      <td>45211</td>\n",
       "      <td>45211</td>\n",
       "      <td>45211</td>\n",
       "      <td>45211</td>\n",
       "      <td>45211</td>\n",
       "      <td>45211</td>\n",
       "      <td>45211</td>\n",
       "      <td>45211</td>\n",
       "      <td>45211</td>\n",
       "    </tr>\n",
       "    <tr>\n",
       "      <th>1</th>\n",
       "      <td>mean</td>\n",
       "      <td>40.93621021432837</td>\n",
       "      <td>None</td>\n",
       "      <td>None</td>\n",
       "      <td>None</td>\n",
       "      <td>None</td>\n",
       "      <td>1362.2720576850766</td>\n",
       "      <td>None</td>\n",
       "      <td>None</td>\n",
       "      <td>None</td>\n",
       "      <td>15.80641879188693</td>\n",
       "      <td>None</td>\n",
       "      <td>258.1630797814691</td>\n",
       "      <td>2.763840658246887</td>\n",
       "      <td>40.19782796222158</td>\n",
       "      <td>0.5803233726305546</td>\n",
       "      <td>None</td>\n",
       "      <td>None</td>\n",
       "    </tr>\n",
       "    <tr>\n",
       "      <th>2</th>\n",
       "      <td>stddev</td>\n",
       "      <td>10.618762040975401</td>\n",
       "      <td>None</td>\n",
       "      <td>None</td>\n",
       "      <td>None</td>\n",
       "      <td>None</td>\n",
       "      <td>3044.7658291685243</td>\n",
       "      <td>None</td>\n",
       "      <td>None</td>\n",
       "      <td>None</td>\n",
       "      <td>8.322476153044589</td>\n",
       "      <td>None</td>\n",
       "      <td>257.5278122651712</td>\n",
       "      <td>3.0980208832791813</td>\n",
       "      <td>100.12874599059818</td>\n",
       "      <td>2.3034410449312164</td>\n",
       "      <td>None</td>\n",
       "      <td>None</td>\n",
       "    </tr>\n",
       "    <tr>\n",
       "      <th>3</th>\n",
       "      <td>min</td>\n",
       "      <td>18</td>\n",
       "      <td>admin.</td>\n",
       "      <td>divorced</td>\n",
       "      <td>primary</td>\n",
       "      <td>no</td>\n",
       "      <td>-8019</td>\n",
       "      <td>no</td>\n",
       "      <td>no</td>\n",
       "      <td>cellular</td>\n",
       "      <td>1</td>\n",
       "      <td>apr</td>\n",
       "      <td>0</td>\n",
       "      <td>1</td>\n",
       "      <td>-1</td>\n",
       "      <td>0</td>\n",
       "      <td>failure</td>\n",
       "      <td>no</td>\n",
       "    </tr>\n",
       "    <tr>\n",
       "      <th>4</th>\n",
       "      <td>max</td>\n",
       "      <td>95</td>\n",
       "      <td>unknown</td>\n",
       "      <td>single</td>\n",
       "      <td>unknown</td>\n",
       "      <td>yes</td>\n",
       "      <td>102127</td>\n",
       "      <td>yes</td>\n",
       "      <td>yes</td>\n",
       "      <td>unknown</td>\n",
       "      <td>31</td>\n",
       "      <td>sep</td>\n",
       "      <td>4918</td>\n",
       "      <td>63</td>\n",
       "      <td>871</td>\n",
       "      <td>275</td>\n",
       "      <td>unknown</td>\n",
       "      <td>yes</td>\n",
       "    </tr>\n",
       "  </tbody>\n",
       "</table>\n",
       "</div>"
      ],
      "text/plain": [
       "  summary                 age      job   marital education default  \\\n",
       "0   count               45211    45211     45211     45211   45211   \n",
       "1    mean   40.93621021432837     None      None      None    None   \n",
       "2  stddev  10.618762040975401     None      None      None    None   \n",
       "3     min                  18   admin.  divorced   primary      no   \n",
       "4     max                  95  unknown    single   unknown     yes   \n",
       "\n",
       "              balance housing   loan   contact                day  month  \\\n",
       "0               45211   45211  45211     45211              45211  45211   \n",
       "1  1362.2720576850766    None   None      None  15.80641879188693   None   \n",
       "2  3044.7658291685243    None   None      None  8.322476153044589   None   \n",
       "3               -8019      no     no  cellular                  1    apr   \n",
       "4              102127     yes    yes   unknown                 31    sep   \n",
       "\n",
       "            duration            campaign               pdays  \\\n",
       "0              45211               45211               45211   \n",
       "1  258.1630797814691   2.763840658246887   40.19782796222158   \n",
       "2  257.5278122651712  3.0980208832791813  100.12874599059818   \n",
       "3                  0                   1                  -1   \n",
       "4               4918                  63                 871   \n",
       "\n",
       "             previous poutcome      y  \n",
       "0               45211    45211  45211  \n",
       "1  0.5803233726305546     None   None  \n",
       "2  2.3034410449312164     None   None  \n",
       "3                   0  failure     no  \n",
       "4                 275  unknown    yes  "
      ]
     },
     "execution_count": 5,
     "metadata": {},
     "output_type": "execute_result"
    }
   ],
   "source": [
    "df.describe().toPandas()"
   ]
  },
  {
   "cell_type": "code",
   "execution_count": 6,
   "metadata": {},
   "outputs": [
    {
     "data": {
      "text/plain": [
       "[('age', 'int'),\n",
       " ('job', 'string'),\n",
       " ('marital', 'string'),\n",
       " ('education', 'string'),\n",
       " ('default', 'string'),\n",
       " ('balance', 'int'),\n",
       " ('housing', 'string'),\n",
       " ('loan', 'string'),\n",
       " ('contact', 'string'),\n",
       " ('day', 'int'),\n",
       " ('month', 'string'),\n",
       " ('duration', 'int'),\n",
       " ('campaign', 'int'),\n",
       " ('pdays', 'int'),\n",
       " ('previous', 'int'),\n",
       " ('poutcome', 'string'),\n",
       " ('y', 'string')]"
      ]
     },
     "execution_count": 6,
     "metadata": {},
     "output_type": "execute_result"
    }
   ],
   "source": [
    "df.dtypes"
   ]
  },
  {
   "cell_type": "code",
   "execution_count": 7,
   "metadata": {},
   "outputs": [
    {
     "name": "stdout",
     "output_type": "stream",
     "text": [
      "root\n",
      " |-- age: integer (nullable = true)\n",
      " |-- job: string (nullable = true)\n",
      " |-- marital: string (nullable = true)\n",
      " |-- education: string (nullable = true)\n",
      " |-- default: string (nullable = true)\n",
      " |-- balance: integer (nullable = true)\n",
      " |-- housing: string (nullable = true)\n",
      " |-- loan: string (nullable = true)\n",
      " |-- contact: string (nullable = true)\n",
      " |-- day: integer (nullable = true)\n",
      " |-- month: string (nullable = true)\n",
      " |-- duration: integer (nullable = true)\n",
      " |-- campaign: integer (nullable = true)\n",
      " |-- pdays: integer (nullable = true)\n",
      " |-- previous: integer (nullable = true)\n",
      " |-- poutcome: string (nullable = true)\n",
      " |-- y: string (nullable = true)\n",
      "\n"
     ]
    }
   ],
   "source": [
    "df.printSchema()"
   ]
  },
  {
   "cell_type": "code",
   "execution_count": 8,
   "metadata": {},
   "outputs": [
    {
     "name": "stdout",
     "output_type": "stream",
     "text": [
      "+---------+-----+\n",
      "|education|count|\n",
      "+---------+-----+\n",
      "|  unknown| 1857|\n",
      "| tertiary|13301|\n",
      "|secondary|23202|\n",
      "|  primary| 6851|\n",
      "+---------+-----+\n",
      "\n"
     ]
    }
   ],
   "source": [
    "df.groupBy('education').count().show()"
   ]
  },
  {
   "cell_type": "code",
   "execution_count": 9,
   "metadata": {},
   "outputs": [
    {
     "name": "stdout",
     "output_type": "stream",
     "text": [
      "+---+-----+\n",
      "|  y|count|\n",
      "+---+-----+\n",
      "| no|39922|\n",
      "|yes| 5289|\n",
      "+---+-----+\n",
      "\n"
     ]
    }
   ],
   "source": [
    "df.groupBy(target_variable_name).count().show()"
   ]
  },
  {
   "cell_type": "code",
   "execution_count": 10,
   "metadata": {},
   "outputs": [
    {
     "name": "stdout",
     "output_type": "stream",
     "text": [
      "+---------+---+-----+\n",
      "|education|  y|count|\n",
      "+---------+---+-----+\n",
      "|  unknown| no| 1605|\n",
      "| tertiary| no|11305|\n",
      "|secondary| no|20752|\n",
      "|  unknown|yes|  252|\n",
      "|  primary| no| 6260|\n",
      "|  primary|yes|  591|\n",
      "|secondary|yes| 2450|\n",
      "| tertiary|yes| 1996|\n",
      "+---------+---+-----+\n",
      "\n"
     ]
    }
   ],
   "source": [
    "df.groupBy(['education', target_variable_name]).count().show()"
   ]
  },
  {
   "cell_type": "code",
   "execution_count": 11,
   "metadata": {},
   "outputs": [],
   "source": [
    "from pyspark.sql.functions import *"
   ]
  },
  {
   "cell_type": "code",
   "execution_count": 12,
   "metadata": {},
   "outputs": [
    {
     "name": "stdout",
     "output_type": "stream",
     "text": [
      "+---+------------------+------------------+\n",
      "|  y|      avg(balance)|          avg(age)|\n",
      "+---+------------------+------------------+\n",
      "| no|1303.7149691899203| 40.83898602274435|\n",
      "|yes|1804.2679145396105|41.670069956513515|\n",
      "+---+------------------+------------------+\n",
      "\n"
     ]
    }
   ],
   "source": [
    "df.groupBy(target_variable_name).agg({'balance': 'avg', 'age': 'avg'}).show()"
   ]
  },
  {
   "cell_type": "code",
   "execution_count": 13,
   "metadata": {},
   "outputs": [
    {
     "name": "stderr",
     "output_type": "stream",
     "text": [
      "                                                                                \r"
     ]
    },
    {
     "data": {
      "text/html": [
       "<div>\n",
       "<style scoped>\n",
       "    .dataframe tbody tr th:only-of-type {\n",
       "        vertical-align: middle;\n",
       "    }\n",
       "\n",
       "    .dataframe tbody tr th {\n",
       "        vertical-align: top;\n",
       "    }\n",
       "\n",
       "    .dataframe thead th {\n",
       "        text-align: right;\n",
       "    }\n",
       "</style>\n",
       "<table border=\"1\" class=\"dataframe\">\n",
       "  <thead>\n",
       "    <tr style=\"text-align: right;\">\n",
       "      <th></th>\n",
       "      <th>summary</th>\n",
       "      <th>age</th>\n",
       "      <th>job</th>\n",
       "      <th>marital</th>\n",
       "      <th>education</th>\n",
       "      <th>default</th>\n",
       "      <th>balance</th>\n",
       "      <th>housing</th>\n",
       "      <th>loan</th>\n",
       "      <th>contact</th>\n",
       "      <th>day</th>\n",
       "      <th>month</th>\n",
       "      <th>duration</th>\n",
       "      <th>campaign</th>\n",
       "      <th>pdays</th>\n",
       "      <th>previous</th>\n",
       "      <th>poutcome</th>\n",
       "      <th>y</th>\n",
       "    </tr>\n",
       "  </thead>\n",
       "  <tbody>\n",
       "    <tr>\n",
       "      <th>0</th>\n",
       "      <td>count</td>\n",
       "      <td>45211</td>\n",
       "      <td>45211</td>\n",
       "      <td>45211</td>\n",
       "      <td>45211</td>\n",
       "      <td>45211</td>\n",
       "      <td>45211</td>\n",
       "      <td>45211</td>\n",
       "      <td>45211</td>\n",
       "      <td>45211</td>\n",
       "      <td>45211</td>\n",
       "      <td>45211</td>\n",
       "      <td>45211</td>\n",
       "      <td>45211</td>\n",
       "      <td>45211</td>\n",
       "      <td>45211</td>\n",
       "      <td>45211</td>\n",
       "      <td>45211</td>\n",
       "    </tr>\n",
       "    <tr>\n",
       "      <th>1</th>\n",
       "      <td>mean</td>\n",
       "      <td>40.93621021432837</td>\n",
       "      <td>None</td>\n",
       "      <td>None</td>\n",
       "      <td>None</td>\n",
       "      <td>None</td>\n",
       "      <td>1362.2720576850766</td>\n",
       "      <td>None</td>\n",
       "      <td>None</td>\n",
       "      <td>None</td>\n",
       "      <td>15.80641879188693</td>\n",
       "      <td>None</td>\n",
       "      <td>258.1630797814691</td>\n",
       "      <td>2.763840658246887</td>\n",
       "      <td>40.19782796222158</td>\n",
       "      <td>0.5803233726305546</td>\n",
       "      <td>None</td>\n",
       "      <td>None</td>\n",
       "    </tr>\n",
       "    <tr>\n",
       "      <th>2</th>\n",
       "      <td>stddev</td>\n",
       "      <td>10.618762040975401</td>\n",
       "      <td>None</td>\n",
       "      <td>None</td>\n",
       "      <td>None</td>\n",
       "      <td>None</td>\n",
       "      <td>3044.7658291685243</td>\n",
       "      <td>None</td>\n",
       "      <td>None</td>\n",
       "      <td>None</td>\n",
       "      <td>8.322476153044589</td>\n",
       "      <td>None</td>\n",
       "      <td>257.5278122651712</td>\n",
       "      <td>3.0980208832791813</td>\n",
       "      <td>100.12874599059818</td>\n",
       "      <td>2.3034410449312164</td>\n",
       "      <td>None</td>\n",
       "      <td>None</td>\n",
       "    </tr>\n",
       "    <tr>\n",
       "      <th>3</th>\n",
       "      <td>min</td>\n",
       "      <td>18</td>\n",
       "      <td>admin.</td>\n",
       "      <td>divorced</td>\n",
       "      <td>primary</td>\n",
       "      <td>no</td>\n",
       "      <td>-8019</td>\n",
       "      <td>no</td>\n",
       "      <td>no</td>\n",
       "      <td>cellular</td>\n",
       "      <td>1</td>\n",
       "      <td>apr</td>\n",
       "      <td>0</td>\n",
       "      <td>1</td>\n",
       "      <td>-1</td>\n",
       "      <td>0</td>\n",
       "      <td>failure</td>\n",
       "      <td>no</td>\n",
       "    </tr>\n",
       "    <tr>\n",
       "      <th>4</th>\n",
       "      <td>25%</td>\n",
       "      <td>33</td>\n",
       "      <td>None</td>\n",
       "      <td>None</td>\n",
       "      <td>None</td>\n",
       "      <td>None</td>\n",
       "      <td>72</td>\n",
       "      <td>None</td>\n",
       "      <td>None</td>\n",
       "      <td>None</td>\n",
       "      <td>8</td>\n",
       "      <td>None</td>\n",
       "      <td>103</td>\n",
       "      <td>1</td>\n",
       "      <td>-1</td>\n",
       "      <td>0</td>\n",
       "      <td>None</td>\n",
       "      <td>None</td>\n",
       "    </tr>\n",
       "    <tr>\n",
       "      <th>5</th>\n",
       "      <td>50%</td>\n",
       "      <td>39</td>\n",
       "      <td>None</td>\n",
       "      <td>None</td>\n",
       "      <td>None</td>\n",
       "      <td>None</td>\n",
       "      <td>448</td>\n",
       "      <td>None</td>\n",
       "      <td>None</td>\n",
       "      <td>None</td>\n",
       "      <td>16</td>\n",
       "      <td>None</td>\n",
       "      <td>180</td>\n",
       "      <td>2</td>\n",
       "      <td>-1</td>\n",
       "      <td>0</td>\n",
       "      <td>None</td>\n",
       "      <td>None</td>\n",
       "    </tr>\n",
       "    <tr>\n",
       "      <th>6</th>\n",
       "      <td>75%</td>\n",
       "      <td>48</td>\n",
       "      <td>None</td>\n",
       "      <td>None</td>\n",
       "      <td>None</td>\n",
       "      <td>None</td>\n",
       "      <td>1427</td>\n",
       "      <td>None</td>\n",
       "      <td>None</td>\n",
       "      <td>None</td>\n",
       "      <td>21</td>\n",
       "      <td>None</td>\n",
       "      <td>319</td>\n",
       "      <td>3</td>\n",
       "      <td>-1</td>\n",
       "      <td>0</td>\n",
       "      <td>None</td>\n",
       "      <td>None</td>\n",
       "    </tr>\n",
       "    <tr>\n",
       "      <th>7</th>\n",
       "      <td>max</td>\n",
       "      <td>95</td>\n",
       "      <td>unknown</td>\n",
       "      <td>single</td>\n",
       "      <td>unknown</td>\n",
       "      <td>yes</td>\n",
       "      <td>102127</td>\n",
       "      <td>yes</td>\n",
       "      <td>yes</td>\n",
       "      <td>unknown</td>\n",
       "      <td>31</td>\n",
       "      <td>sep</td>\n",
       "      <td>4918</td>\n",
       "      <td>63</td>\n",
       "      <td>871</td>\n",
       "      <td>275</td>\n",
       "      <td>unknown</td>\n",
       "      <td>yes</td>\n",
       "    </tr>\n",
       "  </tbody>\n",
       "</table>\n",
       "</div>"
      ],
      "text/plain": [
       "  summary                 age      job   marital education default  \\\n",
       "0   count               45211    45211     45211     45211   45211   \n",
       "1    mean   40.93621021432837     None      None      None    None   \n",
       "2  stddev  10.618762040975401     None      None      None    None   \n",
       "3     min                  18   admin.  divorced   primary      no   \n",
       "4     25%                  33     None      None      None    None   \n",
       "5     50%                  39     None      None      None    None   \n",
       "6     75%                  48     None      None      None    None   \n",
       "7     max                  95  unknown    single   unknown     yes   \n",
       "\n",
       "              balance housing   loan   contact                day  month  \\\n",
       "0               45211   45211  45211     45211              45211  45211   \n",
       "1  1362.2720576850766    None   None      None  15.80641879188693   None   \n",
       "2  3044.7658291685243    None   None      None  8.322476153044589   None   \n",
       "3               -8019      no     no  cellular                  1    apr   \n",
       "4                  72    None   None      None                  8   None   \n",
       "5                 448    None   None      None                 16   None   \n",
       "6                1427    None   None      None                 21   None   \n",
       "7              102127     yes    yes   unknown                 31    sep   \n",
       "\n",
       "            duration            campaign               pdays  \\\n",
       "0              45211               45211               45211   \n",
       "1  258.1630797814691   2.763840658246887   40.19782796222158   \n",
       "2  257.5278122651712  3.0980208832791813  100.12874599059818   \n",
       "3                  0                   1                  -1   \n",
       "4                103                   1                  -1   \n",
       "5                180                   2                  -1   \n",
       "6                319                   3                  -1   \n",
       "7               4918                  63                 871   \n",
       "\n",
       "             previous poutcome      y  \n",
       "0               45211    45211  45211  \n",
       "1  0.5803233726305546     None   None  \n",
       "2  2.3034410449312164     None   None  \n",
       "3                   0  failure     no  \n",
       "4                   0     None   None  \n",
       "5                   0     None   None  \n",
       "6                   0     None   None  \n",
       "7                 275  unknown    yes  "
      ]
     },
     "execution_count": 13,
     "metadata": {},
     "output_type": "execute_result"
    }
   ],
   "source": [
    "df.summary().toPandas()"
   ]
  },
  {
   "cell_type": "code",
   "execution_count": 14,
   "metadata": {},
   "outputs": [],
   "source": [
    "def cardinality_calculation(df, cut_off=1):\n",
    "    cardinality = df.select(*[approxCountDistinct(c).alias(c) for c in df.columns])\n",
    "    \n",
    "    final_cardinality_df = cardinality.toPandas().transpose()\n",
    "    final_cardinality_df.reset_index(inplace=True)\n",
    "    final_cardinality_df.rename(columns={0: 'Cardinality'}, inplace=True)\n",
    "    \n",
    "    vars_selected = final_cardinality_df['index'][final_cardinality_df['Cardinality'] <= cut_off]\n",
    "    \n",
    "    return final_cardinality_df, vars_selected"
   ]
  },
  {
   "cell_type": "code",
   "execution_count": 15,
   "metadata": {},
   "outputs": [
    {
     "name": "stderr",
     "output_type": "stream",
     "text": [
      "22/01/21 12:12:51 WARN package: Truncated the string representation of a plan since it was too large. This behavior can be adjusted by setting 'spark.sql.debug.maxToStringFields'.\n"
     ]
    }
   ],
   "source": [
    "cardinality_df, cardinality_vars_selected = cardinality_calculation(df)"
   ]
  },
  {
   "cell_type": "code",
   "execution_count": 16,
   "metadata": {},
   "outputs": [
    {
     "data": {
      "text/html": [
       "<div>\n",
       "<style scoped>\n",
       "    .dataframe tbody tr th:only-of-type {\n",
       "        vertical-align: middle;\n",
       "    }\n",
       "\n",
       "    .dataframe tbody tr th {\n",
       "        vertical-align: top;\n",
       "    }\n",
       "\n",
       "    .dataframe thead th {\n",
       "        text-align: right;\n",
       "    }\n",
       "</style>\n",
       "<table border=\"1\" class=\"dataframe\">\n",
       "  <thead>\n",
       "    <tr style=\"text-align: right;\">\n",
       "      <th></th>\n",
       "      <th>index</th>\n",
       "      <th>Cardinality</th>\n",
       "    </tr>\n",
       "  </thead>\n",
       "  <tbody>\n",
       "    <tr>\n",
       "      <th>0</th>\n",
       "      <td>age</td>\n",
       "      <td>76</td>\n",
       "    </tr>\n",
       "    <tr>\n",
       "      <th>1</th>\n",
       "      <td>job</td>\n",
       "      <td>11</td>\n",
       "    </tr>\n",
       "    <tr>\n",
       "      <th>2</th>\n",
       "      <td>marital</td>\n",
       "      <td>3</td>\n",
       "    </tr>\n",
       "    <tr>\n",
       "      <th>3</th>\n",
       "      <td>education</td>\n",
       "      <td>4</td>\n",
       "    </tr>\n",
       "    <tr>\n",
       "      <th>4</th>\n",
       "      <td>default</td>\n",
       "      <td>2</td>\n",
       "    </tr>\n",
       "    <tr>\n",
       "      <th>5</th>\n",
       "      <td>balance</td>\n",
       "      <td>7375</td>\n",
       "    </tr>\n",
       "    <tr>\n",
       "      <th>6</th>\n",
       "      <td>housing</td>\n",
       "      <td>2</td>\n",
       "    </tr>\n",
       "    <tr>\n",
       "      <th>7</th>\n",
       "      <td>loan</td>\n",
       "      <td>2</td>\n",
       "    </tr>\n",
       "    <tr>\n",
       "      <th>8</th>\n",
       "      <td>contact</td>\n",
       "      <td>3</td>\n",
       "    </tr>\n",
       "    <tr>\n",
       "      <th>9</th>\n",
       "      <td>day</td>\n",
       "      <td>32</td>\n",
       "    </tr>\n",
       "    <tr>\n",
       "      <th>10</th>\n",
       "      <td>month</td>\n",
       "      <td>12</td>\n",
       "    </tr>\n",
       "    <tr>\n",
       "      <th>11</th>\n",
       "      <td>duration</td>\n",
       "      <td>1605</td>\n",
       "    </tr>\n",
       "    <tr>\n",
       "      <th>12</th>\n",
       "      <td>campaign</td>\n",
       "      <td>47</td>\n",
       "    </tr>\n",
       "    <tr>\n",
       "      <th>13</th>\n",
       "      <td>pdays</td>\n",
       "      <td>547</td>\n",
       "    </tr>\n",
       "    <tr>\n",
       "      <th>14</th>\n",
       "      <td>previous</td>\n",
       "      <td>42</td>\n",
       "    </tr>\n",
       "    <tr>\n",
       "      <th>15</th>\n",
       "      <td>poutcome</td>\n",
       "      <td>4</td>\n",
       "    </tr>\n",
       "    <tr>\n",
       "      <th>16</th>\n",
       "      <td>y</td>\n",
       "      <td>2</td>\n",
       "    </tr>\n",
       "  </tbody>\n",
       "</table>\n",
       "</div>"
      ],
      "text/plain": [
       "        index  Cardinality\n",
       "0         age           76\n",
       "1         job           11\n",
       "2     marital            3\n",
       "3   education            4\n",
       "4     default            2\n",
       "5     balance         7375\n",
       "6     housing            2\n",
       "7        loan            2\n",
       "8     contact            3\n",
       "9         day           32\n",
       "10      month           12\n",
       "11   duration         1605\n",
       "12   campaign           47\n",
       "13      pdays          547\n",
       "14   previous           42\n",
       "15   poutcome            4\n",
       "16          y            2"
      ]
     },
     "execution_count": 16,
     "metadata": {},
     "output_type": "execute_result"
    }
   ],
   "source": [
    "cardinality_df"
   ]
  },
  {
   "cell_type": "code",
   "execution_count": 17,
   "metadata": {},
   "outputs": [
    {
     "data": {
      "text/plain": [
       "Series([], Name: index, dtype: object)"
      ]
     },
     "execution_count": 17,
     "metadata": {},
     "output_type": "execute_result"
    }
   ],
   "source": [
    "cardinality_vars_selected"
   ]
  },
  {
   "cell_type": "markdown",
   "metadata": {},
   "source": [
    "# Missing values check"
   ]
  },
  {
   "cell_type": "code",
   "execution_count": 18,
   "metadata": {},
   "outputs": [],
   "source": [
    "def missing_calculation(df, miss_percentage=0.8):\n",
    "    missing = df.select(*[count(when(isnan(c) | col(c).isNull(), c)).alias(c) for c in df.columns])\n",
    "    length_df = df.count()\n",
    "    \n",
    "    final_missing_df = missing.toPandas().transpose()\n",
    "    final_missing_df.reset_index(inplace=True)\n",
    "    final_missing_df.rename(columns={0: 'missing_count'}, inplace=True)\n",
    "    final_missing_df['missing_percentage'] = final_missing_df['missing_count'] / length_df\n",
    "    \n",
    "    vars_selected = final_missing_df['index'][final_missing_df['missing_percentage'] >= miss_percentage]\n",
    "    \n",
    "    return final_missing_df, vars_selected"
   ]
  },
  {
   "cell_type": "code",
   "execution_count": 19,
   "metadata": {},
   "outputs": [
    {
     "name": "stderr",
     "output_type": "stream",
     "text": [
      "                                                                                \r"
     ]
    }
   ],
   "source": [
    "missing_df, missing_vars_selected = missing_calculation(df)"
   ]
  },
  {
   "cell_type": "code",
   "execution_count": 20,
   "metadata": {},
   "outputs": [
    {
     "data": {
      "text/html": [
       "<div>\n",
       "<style scoped>\n",
       "    .dataframe tbody tr th:only-of-type {\n",
       "        vertical-align: middle;\n",
       "    }\n",
       "\n",
       "    .dataframe tbody tr th {\n",
       "        vertical-align: top;\n",
       "    }\n",
       "\n",
       "    .dataframe thead th {\n",
       "        text-align: right;\n",
       "    }\n",
       "</style>\n",
       "<table border=\"1\" class=\"dataframe\">\n",
       "  <thead>\n",
       "    <tr style=\"text-align: right;\">\n",
       "      <th></th>\n",
       "      <th>index</th>\n",
       "      <th>missing_count</th>\n",
       "      <th>missing_percentage</th>\n",
       "    </tr>\n",
       "  </thead>\n",
       "  <tbody>\n",
       "    <tr>\n",
       "      <th>0</th>\n",
       "      <td>age</td>\n",
       "      <td>0</td>\n",
       "      <td>0.0</td>\n",
       "    </tr>\n",
       "    <tr>\n",
       "      <th>1</th>\n",
       "      <td>job</td>\n",
       "      <td>0</td>\n",
       "      <td>0.0</td>\n",
       "    </tr>\n",
       "    <tr>\n",
       "      <th>2</th>\n",
       "      <td>marital</td>\n",
       "      <td>0</td>\n",
       "      <td>0.0</td>\n",
       "    </tr>\n",
       "    <tr>\n",
       "      <th>3</th>\n",
       "      <td>education</td>\n",
       "      <td>0</td>\n",
       "      <td>0.0</td>\n",
       "    </tr>\n",
       "    <tr>\n",
       "      <th>4</th>\n",
       "      <td>default</td>\n",
       "      <td>0</td>\n",
       "      <td>0.0</td>\n",
       "    </tr>\n",
       "    <tr>\n",
       "      <th>5</th>\n",
       "      <td>balance</td>\n",
       "      <td>0</td>\n",
       "      <td>0.0</td>\n",
       "    </tr>\n",
       "    <tr>\n",
       "      <th>6</th>\n",
       "      <td>housing</td>\n",
       "      <td>0</td>\n",
       "      <td>0.0</td>\n",
       "    </tr>\n",
       "    <tr>\n",
       "      <th>7</th>\n",
       "      <td>loan</td>\n",
       "      <td>0</td>\n",
       "      <td>0.0</td>\n",
       "    </tr>\n",
       "    <tr>\n",
       "      <th>8</th>\n",
       "      <td>contact</td>\n",
       "      <td>0</td>\n",
       "      <td>0.0</td>\n",
       "    </tr>\n",
       "    <tr>\n",
       "      <th>9</th>\n",
       "      <td>day</td>\n",
       "      <td>0</td>\n",
       "      <td>0.0</td>\n",
       "    </tr>\n",
       "    <tr>\n",
       "      <th>10</th>\n",
       "      <td>month</td>\n",
       "      <td>0</td>\n",
       "      <td>0.0</td>\n",
       "    </tr>\n",
       "    <tr>\n",
       "      <th>11</th>\n",
       "      <td>duration</td>\n",
       "      <td>0</td>\n",
       "      <td>0.0</td>\n",
       "    </tr>\n",
       "    <tr>\n",
       "      <th>12</th>\n",
       "      <td>campaign</td>\n",
       "      <td>0</td>\n",
       "      <td>0.0</td>\n",
       "    </tr>\n",
       "    <tr>\n",
       "      <th>13</th>\n",
       "      <td>pdays</td>\n",
       "      <td>0</td>\n",
       "      <td>0.0</td>\n",
       "    </tr>\n",
       "    <tr>\n",
       "      <th>14</th>\n",
       "      <td>previous</td>\n",
       "      <td>0</td>\n",
       "      <td>0.0</td>\n",
       "    </tr>\n",
       "    <tr>\n",
       "      <th>15</th>\n",
       "      <td>poutcome</td>\n",
       "      <td>0</td>\n",
       "      <td>0.0</td>\n",
       "    </tr>\n",
       "    <tr>\n",
       "      <th>16</th>\n",
       "      <td>y</td>\n",
       "      <td>0</td>\n",
       "      <td>0.0</td>\n",
       "    </tr>\n",
       "  </tbody>\n",
       "</table>\n",
       "</div>"
      ],
      "text/plain": [
       "        index  missing_count  missing_percentage\n",
       "0         age              0                 0.0\n",
       "1         job              0                 0.0\n",
       "2     marital              0                 0.0\n",
       "3   education              0                 0.0\n",
       "4     default              0                 0.0\n",
       "5     balance              0                 0.0\n",
       "6     housing              0                 0.0\n",
       "7        loan              0                 0.0\n",
       "8     contact              0                 0.0\n",
       "9         day              0                 0.0\n",
       "10      month              0                 0.0\n",
       "11   duration              0                 0.0\n",
       "12   campaign              0                 0.0\n",
       "13      pdays              0                 0.0\n",
       "14   previous              0                 0.0\n",
       "15   poutcome              0                 0.0\n",
       "16          y              0                 0.0"
      ]
     },
     "execution_count": 20,
     "metadata": {},
     "output_type": "execute_result"
    }
   ],
   "source": [
    "missing_df"
   ]
  },
  {
   "cell_type": "code",
   "execution_count": 21,
   "metadata": {},
   "outputs": [
    {
     "data": {
      "text/plain": [
       "Series([], Name: index, dtype: object)"
      ]
     },
     "execution_count": 21,
     "metadata": {},
     "output_type": "execute_result"
    }
   ],
   "source": [
    "missing_vars_selected"
   ]
  },
  {
   "cell_type": "markdown",
   "metadata": {},
   "source": [
    "# Identify variable types"
   ]
  },
  {
   "cell_type": "code",
   "execution_count": 22,
   "metadata": {},
   "outputs": [],
   "source": [
    "def variable_type(df):\n",
    "    vars_list = df.dtypes\n",
    "    char_vars = []\n",
    "    num_vars = []\n",
    "    for i in vars_list:\n",
    "        if i[1] in ('string'):\n",
    "            char_vars.append(i[0])\n",
    "        else:\n",
    "            num_vars.append(i[0])\n",
    "            \n",
    "    return char_vars, num_vars"
   ]
  },
  {
   "cell_type": "code",
   "execution_count": 23,
   "metadata": {},
   "outputs": [],
   "source": [
    "char_vars, num_vars = variable_type(df)"
   ]
  },
  {
   "cell_type": "code",
   "execution_count": 24,
   "metadata": {},
   "outputs": [
    {
     "data": {
      "text/plain": [
       "['job',\n",
       " 'marital',\n",
       " 'education',\n",
       " 'default',\n",
       " 'housing',\n",
       " 'loan',\n",
       " 'contact',\n",
       " 'month',\n",
       " 'poutcome',\n",
       " 'y']"
      ]
     },
     "execution_count": 24,
     "metadata": {},
     "output_type": "execute_result"
    }
   ],
   "source": [
    "char_vars"
   ]
  },
  {
   "cell_type": "code",
   "execution_count": 25,
   "metadata": {},
   "outputs": [
    {
     "data": {
      "text/plain": [
       "['age', 'balance', 'day', 'duration', 'campaign', 'pdays', 'previous']"
      ]
     },
     "execution_count": 25,
     "metadata": {},
     "output_type": "execute_result"
    }
   ],
   "source": [
    "num_vars"
   ]
  },
  {
   "cell_type": "code",
   "execution_count": 26,
   "metadata": {},
   "outputs": [],
   "source": [
    "from pyspark.ml.feature import StringIndexer\n",
    "from pyspark.ml import Pipeline"
   ]
  },
  {
   "cell_type": "code",
   "execution_count": 27,
   "metadata": {},
   "outputs": [],
   "source": [
    "def category_to_index(df, char_vars):\n",
    "    char_df = df.select(char_vars)\n",
    "    indexers = [StringIndexer(inputCol=c, \n",
    "                              outputCol=c+'_index', \n",
    "                              handleInvalid='keep') for c in char_df.columns]\n",
    "    \n",
    "    pipeline = Pipeline(stages=indexers)\n",
    "    char_labels = pipeline.fit(char_df)\n",
    "    df = char_labels.transform(df)\n",
    "    \n",
    "    return df, char_labels"
   ]
  },
  {
   "cell_type": "code",
   "execution_count": 28,
   "metadata": {},
   "outputs": [],
   "source": [
    "df, char_labels = category_to_index(df, char_vars)"
   ]
  },
  {
   "cell_type": "code",
   "execution_count": 29,
   "metadata": {},
   "outputs": [
    {
     "name": "stdout",
     "output_type": "stream",
     "text": [
      "+---+----------+-------+---------+-------+-------+-------+----+-------+---+-----+--------+--------+-----+--------+--------+---+---------+-------------+---------------+-------------+-------------+----------+-------------+-----------+--------------+-------+\n",
      "|age|       job|marital|education|default|balance|housing|loan|contact|day|month|duration|campaign|pdays|previous|poutcome|  y|job_index|marital_index|education_index|default_index|housing_index|loan_index|contact_index|month_index|poutcome_index|y_index|\n",
      "+---+----------+-------+---------+-------+-------+-------+----+-------+---+-----+--------+--------+-----+--------+--------+---+---------+-------------+---------------+-------------+-------------+----------+-------------+-----------+--------------+-------+\n",
      "| 58|management|married| tertiary|     no|   2143|    yes|  no|unknown|  5|  may|     261|       1|   -1|       0| unknown| no|      1.0|          0.0|            1.0|          0.0|          0.0|       0.0|          1.0|        0.0|           0.0|    0.0|\n",
      "| 44|technician| single|secondary|     no|     29|    yes|  no|unknown|  5|  may|     151|       1|   -1|       0| unknown| no|      2.0|          1.0|            0.0|          0.0|          0.0|       0.0|          1.0|        0.0|           0.0|    0.0|\n",
      "+---+----------+-------+---------+-------+-------+-------+----+-------+---+-----+--------+--------+-----+--------+--------+---+---------+-------------+---------------+-------------+-------------+----------+-------------+-----------+--------------+-------+\n",
      "only showing top 2 rows\n",
      "\n"
     ]
    }
   ],
   "source": [
    "df.show(2)"
   ]
  },
  {
   "cell_type": "code",
   "execution_count": 30,
   "metadata": {},
   "outputs": [
    {
     "data": {
      "text/plain": [
       "PipelineModel_62a6059583c4"
      ]
     },
     "execution_count": 30,
     "metadata": {},
     "output_type": "execute_result"
    }
   ],
   "source": [
    "char_labels"
   ]
  },
  {
   "cell_type": "code",
   "execution_count": 31,
   "metadata": {},
   "outputs": [],
   "source": [
    "df = df.select([c for c in df.columns if c not in char_vars])"
   ]
  },
  {
   "cell_type": "code",
   "execution_count": 32,
   "metadata": {},
   "outputs": [],
   "source": [
    "def rename_columns(df, char_vars):\n",
    "    mapping = dict(zip([i + \"_index\" for i in char_vars], char_vars))\n",
    "    df = df.select([col(c).alias(mapping.get(c, c)) for c in df.columns])\n",
    "    return df"
   ]
  },
  {
   "cell_type": "code",
   "execution_count": 33,
   "metadata": {},
   "outputs": [
    {
     "data": {
      "text/plain": [
       "DataFrame[age: int, balance: int, day: int, duration: int, campaign: int, pdays: int, previous: int, job: double, marital: double, education: double, default: double, housing: double, loan: double, contact: double, month: double, poutcome: double, y: double]"
      ]
     },
     "execution_count": 33,
     "metadata": {},
     "output_type": "execute_result"
    }
   ],
   "source": [
    "df = rename_columns(df, char_vars)\n",
    "df"
   ]
  },
  {
   "cell_type": "code",
   "execution_count": 34,
   "metadata": {},
   "outputs": [
    {
     "name": "stdout",
     "output_type": "stream",
     "text": [
      "+---+-------+---+--------+--------+-----+--------+----+-------+---------+-------+-------+----+-------+-----+--------+---+\n",
      "|age|balance|day|duration|campaign|pdays|previous| job|marital|education|default|housing|loan|contact|month|poutcome|  y|\n",
      "+---+-------+---+--------+--------+-----+--------+----+-------+---------+-------+-------+----+-------+-----+--------+---+\n",
      "| 58|   2143|  5|     261|       1|   -1|       0| 1.0|    0.0|      1.0|    0.0|    0.0| 0.0|    1.0|  0.0|     0.0|0.0|\n",
      "| 44|     29|  5|     151|       1|   -1|       0| 2.0|    1.0|      0.0|    0.0|    0.0| 0.0|    1.0|  0.0|     0.0|0.0|\n",
      "| 33|      2|  5|      76|       1|   -1|       0| 7.0|    0.0|      0.0|    0.0|    0.0| 1.0|    1.0|  0.0|     0.0|0.0|\n",
      "| 47|   1506|  5|      92|       1|   -1|       0| 0.0|    0.0|      3.0|    0.0|    0.0| 0.0|    1.0|  0.0|     0.0|0.0|\n",
      "| 33|      1|  5|     198|       1|   -1|       0|11.0|    1.0|      3.0|    0.0|    1.0| 0.0|    1.0|  0.0|     0.0|0.0|\n",
      "| 35|    231|  5|     139|       1|   -1|       0| 1.0|    0.0|      1.0|    0.0|    0.0| 0.0|    1.0|  0.0|     0.0|0.0|\n",
      "| 28|    447|  5|     217|       1|   -1|       0| 1.0|    1.0|      1.0|    0.0|    0.0| 1.0|    1.0|  0.0|     0.0|0.0|\n",
      "| 42|      2|  5|     380|       1|   -1|       0| 7.0|    2.0|      1.0|    1.0|    0.0| 0.0|    1.0|  0.0|     0.0|0.0|\n",
      "| 58|    121|  5|      50|       1|   -1|       0| 5.0|    0.0|      2.0|    0.0|    0.0| 0.0|    1.0|  0.0|     0.0|0.0|\n",
      "| 43|    593|  5|      55|       1|   -1|       0| 2.0|    1.0|      0.0|    0.0|    0.0| 0.0|    1.0|  0.0|     0.0|0.0|\n",
      "| 41|    270|  5|     222|       1|   -1|       0| 3.0|    2.0|      0.0|    0.0|    0.0| 0.0|    1.0|  0.0|     0.0|0.0|\n",
      "| 29|    390|  5|     137|       1|   -1|       0| 3.0|    1.0|      0.0|    0.0|    0.0| 0.0|    1.0|  0.0|     0.0|0.0|\n",
      "| 53|      6|  5|     517|       1|   -1|       0| 2.0|    0.0|      0.0|    0.0|    0.0| 0.0|    1.0|  0.0|     0.0|0.0|\n",
      "| 58|     71|  5|      71|       1|   -1|       0| 2.0|    0.0|      3.0|    0.0|    0.0| 0.0|    1.0|  0.0|     0.0|0.0|\n",
      "| 57|    162|  5|     174|       1|   -1|       0| 4.0|    0.0|      0.0|    0.0|    0.0| 0.0|    1.0|  0.0|     0.0|0.0|\n",
      "| 51|    229|  5|     353|       1|   -1|       0| 5.0|    0.0|      2.0|    0.0|    0.0| 0.0|    1.0|  0.0|     0.0|0.0|\n",
      "| 45|     13|  5|      98|       1|   -1|       0| 3.0|    1.0|      3.0|    0.0|    0.0| 0.0|    1.0|  0.0|     0.0|0.0|\n",
      "| 57|     52|  5|      38|       1|   -1|       0| 0.0|    0.0|      2.0|    0.0|    0.0| 0.0|    1.0|  0.0|     0.0|0.0|\n",
      "| 60|     60|  5|     219|       1|   -1|       0| 5.0|    0.0|      2.0|    0.0|    0.0| 0.0|    1.0|  0.0|     0.0|0.0|\n",
      "| 33|      0|  5|      54|       1|   -1|       0| 4.0|    0.0|      0.0|    0.0|    0.0| 0.0|    1.0|  0.0|     0.0|0.0|\n",
      "+---+-------+---+--------+--------+-----+--------+----+-------+---------+-------+-------+----+-------+-----+--------+---+\n",
      "only showing top 20 rows\n",
      "\n"
     ]
    }
   ],
   "source": [
    "df.show()"
   ]
  },
  {
   "cell_type": "markdown",
   "metadata": {},
   "source": [
    "# Assemble Features"
   ]
  },
  {
   "cell_type": "code",
   "execution_count": 35,
   "metadata": {},
   "outputs": [],
   "source": [
    "from pyspark.ml.feature import VectorAssembler"
   ]
  },
  {
   "cell_type": "code",
   "execution_count": 36,
   "metadata": {},
   "outputs": [],
   "source": [
    "def assemble_vectors(df, features_list, target_variable_name):\n",
    "    stages = []\n",
    "    assembler = VectorAssembler(inputCols=features_list, outputCol='features')\n",
    "    stages = [assembler]\n",
    "    \n",
    "    selectedCols = [target_variable_name, 'features'] + features_list\n",
    "    pipeline = Pipeline(stages=stages)\n",
    "    assembleModel = pipeline.fit(df)\n",
    "    df = assembleModel.transform(df).select(selectedCols)\n",
    "    \n",
    "    return df"
   ]
  },
  {
   "cell_type": "code",
   "execution_count": 37,
   "metadata": {},
   "outputs": [],
   "source": [
    "features_list = df.columns\n",
    "features_list.remove(target_variable_name)\n",
    "\n",
    "df = assemble_vectors(df, features_list, target_variable_name)"
   ]
  },
  {
   "cell_type": "code",
   "execution_count": 38,
   "metadata": {},
   "outputs": [
    {
     "name": "stdout",
     "output_type": "stream",
     "text": [
      "+---+--------------------+---+-------+---+--------+--------+-----+--------+---+-------+---------+-------+-------+----+-------+-----+--------+\n",
      "|  y|            features|age|balance|day|duration|campaign|pdays|previous|job|marital|education|default|housing|loan|contact|month|poutcome|\n",
      "+---+--------------------+---+-------+---+--------+--------+-----+--------+---+-------+---------+-------+-------+----+-------+-----+--------+\n",
      "|0.0|(16,[0,1,2,3,4,5,...| 58|   2143|  5|     261|       1|   -1|       0|1.0|    0.0|      1.0|    0.0|    0.0| 0.0|    1.0|  0.0|     0.0|\n",
      "|0.0|(16,[0,1,2,3,4,5,...| 44|     29|  5|     151|       1|   -1|       0|2.0|    1.0|      0.0|    0.0|    0.0| 0.0|    1.0|  0.0|     0.0|\n",
      "+---+--------------------+---+-------+---+--------+--------+-----+--------+---+-------+---------+-------+-------+----+-------+-----+--------+\n",
      "only showing top 2 rows\n",
      "\n"
     ]
    }
   ],
   "source": [
    "df.show(2)"
   ]
  },
  {
   "cell_type": "code",
   "execution_count": 39,
   "metadata": {},
   "outputs": [
    {
     "data": {
      "text/plain": [
       "{'numeric': [{'idx': 0, 'name': 'age'},\n",
       "  {'idx': 1, 'name': 'balance'},\n",
       "  {'idx': 2, 'name': 'day'},\n",
       "  {'idx': 3, 'name': 'duration'},\n",
       "  {'idx': 4, 'name': 'campaign'},\n",
       "  {'idx': 5, 'name': 'pdays'},\n",
       "  {'idx': 6, 'name': 'previous'}],\n",
       " 'nominal': [{'vals': ['blue-collar',\n",
       "    'management',\n",
       "    'technician',\n",
       "    'admin.',\n",
       "    'services',\n",
       "    'retired',\n",
       "    'self-employed',\n",
       "    'entrepreneur',\n",
       "    'unemployed',\n",
       "    'housemaid',\n",
       "    'student',\n",
       "    'unknown',\n",
       "    '__unknown'],\n",
       "   'idx': 7,\n",
       "   'name': 'job'},\n",
       "  {'vals': ['married', 'single', 'divorced', '__unknown'],\n",
       "   'idx': 8,\n",
       "   'name': 'marital'},\n",
       "  {'vals': ['secondary', 'tertiary', 'primary', 'unknown', '__unknown'],\n",
       "   'idx': 9,\n",
       "   'name': 'education'},\n",
       "  {'vals': ['no', 'yes', '__unknown'], 'idx': 10, 'name': 'default'},\n",
       "  {'vals': ['yes', 'no', '__unknown'], 'idx': 11, 'name': 'housing'},\n",
       "  {'vals': ['no', 'yes', '__unknown'], 'idx': 12, 'name': 'loan'},\n",
       "  {'vals': ['cellular', 'unknown', 'telephone', '__unknown'],\n",
       "   'idx': 13,\n",
       "   'name': 'contact'},\n",
       "  {'vals': ['may',\n",
       "    'jul',\n",
       "    'aug',\n",
       "    'jun',\n",
       "    'nov',\n",
       "    'apr',\n",
       "    'feb',\n",
       "    'jan',\n",
       "    'oct',\n",
       "    'sep',\n",
       "    'mar',\n",
       "    'dec',\n",
       "    '__unknown'],\n",
       "   'idx': 14,\n",
       "   'name': 'month'},\n",
       "  {'vals': ['unknown', 'failure', 'other', 'success', '__unknown'],\n",
       "   'idx': 15,\n",
       "   'name': 'poutcome'}]}"
      ]
     },
     "execution_count": 39,
     "metadata": {},
     "output_type": "execute_result"
    }
   ],
   "source": [
    "df.schema['features'].metadata['ml_attr']['attrs']"
   ]
  },
  {
   "cell_type": "code",
   "execution_count": 40,
   "metadata": {},
   "outputs": [],
   "source": [
    "import pandas as pd"
   ]
  },
  {
   "cell_type": "code",
   "execution_count": 41,
   "metadata": {},
   "outputs": [],
   "source": [
    "for k, v in df.schema['features'].metadata['ml_attr']['attrs'].items():\n",
    "    features_df = pd.DataFrame(v)"
   ]
  },
  {
   "cell_type": "code",
   "execution_count": 42,
   "metadata": {},
   "outputs": [
    {
     "data": {
      "text/html": [
       "<div>\n",
       "<style scoped>\n",
       "    .dataframe tbody tr th:only-of-type {\n",
       "        vertical-align: middle;\n",
       "    }\n",
       "\n",
       "    .dataframe tbody tr th {\n",
       "        vertical-align: top;\n",
       "    }\n",
       "\n",
       "    .dataframe thead th {\n",
       "        text-align: right;\n",
       "    }\n",
       "</style>\n",
       "<table border=\"1\" class=\"dataframe\">\n",
       "  <thead>\n",
       "    <tr style=\"text-align: right;\">\n",
       "      <th></th>\n",
       "      <th>vals</th>\n",
       "      <th>idx</th>\n",
       "      <th>name</th>\n",
       "    </tr>\n",
       "  </thead>\n",
       "  <tbody>\n",
       "    <tr>\n",
       "      <th>0</th>\n",
       "      <td>[blue-collar, management, technician, admin., ...</td>\n",
       "      <td>7</td>\n",
       "      <td>job</td>\n",
       "    </tr>\n",
       "    <tr>\n",
       "      <th>1</th>\n",
       "      <td>[married, single, divorced, __unknown]</td>\n",
       "      <td>8</td>\n",
       "      <td>marital</td>\n",
       "    </tr>\n",
       "    <tr>\n",
       "      <th>2</th>\n",
       "      <td>[secondary, tertiary, primary, unknown, __unkn...</td>\n",
       "      <td>9</td>\n",
       "      <td>education</td>\n",
       "    </tr>\n",
       "    <tr>\n",
       "      <th>3</th>\n",
       "      <td>[no, yes, __unknown]</td>\n",
       "      <td>10</td>\n",
       "      <td>default</td>\n",
       "    </tr>\n",
       "    <tr>\n",
       "      <th>4</th>\n",
       "      <td>[yes, no, __unknown]</td>\n",
       "      <td>11</td>\n",
       "      <td>housing</td>\n",
       "    </tr>\n",
       "    <tr>\n",
       "      <th>5</th>\n",
       "      <td>[no, yes, __unknown]</td>\n",
       "      <td>12</td>\n",
       "      <td>loan</td>\n",
       "    </tr>\n",
       "    <tr>\n",
       "      <th>6</th>\n",
       "      <td>[cellular, unknown, telephone, __unknown]</td>\n",
       "      <td>13</td>\n",
       "      <td>contact</td>\n",
       "    </tr>\n",
       "    <tr>\n",
       "      <th>7</th>\n",
       "      <td>[may, jul, aug, jun, nov, apr, feb, jan, oct, ...</td>\n",
       "      <td>14</td>\n",
       "      <td>month</td>\n",
       "    </tr>\n",
       "    <tr>\n",
       "      <th>8</th>\n",
       "      <td>[unknown, failure, other, success, __unknown]</td>\n",
       "      <td>15</td>\n",
       "      <td>poutcome</td>\n",
       "    </tr>\n",
       "  </tbody>\n",
       "</table>\n",
       "</div>"
      ],
      "text/plain": [
       "                                                vals  idx       name\n",
       "0  [blue-collar, management, technician, admin., ...    7        job\n",
       "1             [married, single, divorced, __unknown]    8    marital\n",
       "2  [secondary, tertiary, primary, unknown, __unkn...    9  education\n",
       "3                               [no, yes, __unknown]   10    default\n",
       "4                               [yes, no, __unknown]   11    housing\n",
       "5                               [no, yes, __unknown]   12       loan\n",
       "6          [cellular, unknown, telephone, __unknown]   13    contact\n",
       "7  [may, jul, aug, jun, nov, apr, feb, jan, oct, ...   14      month\n",
       "8      [unknown, failure, other, success, __unknown]   15   poutcome"
      ]
     },
     "execution_count": 42,
     "metadata": {},
     "output_type": "execute_result"
    }
   ],
   "source": [
    "features_df"
   ]
  },
  {
   "cell_type": "code",
   "execution_count": 43,
   "metadata": {},
   "outputs": [],
   "source": [
    "from pyspark.ml.feature import PCA\n",
    "from pyspark.ml.linalg import Vectors"
   ]
  },
  {
   "cell_type": "code",
   "execution_count": 44,
   "metadata": {},
   "outputs": [
    {
     "name": "stderr",
     "output_type": "stream",
     "text": [
      "22/01/21 12:13:09 WARN BLAS: Failed to load implementation from: com.github.fommil.netlib.NativeSystemBLAS\n",
      "22/01/21 12:13:09 WARN BLAS: Failed to load implementation from: com.github.fommil.netlib.NativeRefBLAS\n"
     ]
    },
    {
     "name": "stdout",
     "output_type": "stream",
     "text": [
      "+------------------------------------------------------------+\n",
      "|pcaFeatures                                                 |\n",
      "+------------------------------------------------------------+\n",
      "|[-2143.4953647735806,-257.0420740676509,1.2449712753045807] |\n",
      "|[-29.29226175164622,-150.92888640669173,1.0493026899277984] |\n",
      "|[-2.150889773941845,-75.98191250436618,1.076065195538016]   |\n",
      "|[-1506.1823305908113,-89.21547154672724,1.2683999536975388] |\n",
      "|[-1.3750908349447704,-197.98356175494834,0.9892427009814176]|\n",
      "|[-231.26679712386607,-138.56034919503722,1.0576960891394662]|\n",
      "|[-447.4072782675638,-216.16541383839757,1.0066666548029033] |\n",
      "|[-2.7123264447441384,-379.9785828164356,0.875150469836411]  |\n",
      "|[-121.11144848214039,-49.756360259707854,1.1725853591922941]|\n",
      "|[-593.1146061641073,-53.89364261832045,1.1817022732261329]  |\n",
      "|[-270.4212341323415,-221.4869966182793,1.0170824073203284]  |\n",
      "|[-390.2608167665407,-136.27016909339142,1.0625336862698371] |\n",
      "|[-6.967616100129074,-516.9674558248698,0.800354576806597]   |\n",
      "|[-71.15006476185224,-70.84798774752204,1.1499619332807443]  |\n",
      "|[-162.33874829001962,-173.68095250690803,1.082334518324592] |\n",
      "|[-229.66539702564614,-352.5590565974903,0.9435034899629685] |\n",
      "|[-13.19533609012041,-97.95815345000725,1.0902785009000497]  |\n",
      "|[-52.08909854893974,-37.88319180402843,1.168229651755821]   |\n",
      "|[-60.42264272680139,-218.86732123338805,1.0462594933055773] |\n",
      "|[-0.11044203745870551,-53.98554342962402,1.0903138050957364]|\n",
      "+------------------------------------------------------------+\n",
      "only showing top 20 rows\n",
      "\n"
     ]
    },
    {
     "name": "stderr",
     "output_type": "stream",
     "text": [
      "22/01/21 12:13:09 WARN LAPACK: Failed to load implementation from: com.github.fommil.netlib.NativeSystemLAPACK\n",
      "22/01/21 12:13:09 WARN LAPACK: Failed to load implementation from: com.github.fommil.netlib.NativeRefLAPACK\n"
     ]
    }
   ],
   "source": [
    "no_of_components = 3\n",
    "pca = PCA(k=no_of_components, inputCol='features', outputCol='pcaFeatures')\n",
    "model = pca.fit(df)\n",
    "result = model.transform(df).select('pcaFeatures')\n",
    "result.show(truncate=False)"
   ]
  },
  {
   "cell_type": "code",
   "execution_count": 45,
   "metadata": {},
   "outputs": [
    {
     "data": {
      "text/plain": [
       "array([[-3.41021399e-04,  2.79524640e-04,  2.58353293e-03],\n",
       "       [-9.99998245e-01,  1.83654726e-03,  1.13892524e-04],\n",
       "       [-1.22934480e-05,  9.79995613e-04,  7.79347982e-03],\n",
       "       [-1.83671689e-03, -9.99996986e-01, -7.36955549e-04],\n",
       "       [ 1.48468991e-05,  1.01391994e-03,  2.75121381e-03],\n",
       "       [-1.13085547e-04,  7.49207153e-04, -9.99889046e-01],\n",
       "       [-1.26153895e-05, -6.36100089e-06, -1.04654388e-02],\n",
       "       [-1.78789640e-05, -4.11817349e-05,  5.51411389e-04],\n",
       "       [ 6.41085932e-06, -5.23364803e-05, -1.45349520e-04],\n",
       "       [-1.11185424e-05,  1.30366514e-05,  2.01500982e-04],\n",
       "       [ 2.91665702e-06,  4.42643869e-06,  3.95562163e-05],\n",
       "       [-1.12221341e-05,  1.26153926e-05,  6.17569266e-04],\n",
       "       [ 1.01623400e-05,  1.50687571e-05,  8.23933054e-05],\n",
       "       [-5.68377754e-07,  6.95393403e-05,  1.03951369e-03],\n",
       "       [-7.60886236e-05, -1.16754927e-04, -3.24662847e-03],\n",
       "       [-8.55162111e-06, -6.01853226e-05, -4.94522998e-03]])"
      ]
     },
     "execution_count": 45,
     "metadata": {},
     "output_type": "execute_result"
    }
   ],
   "source": [
    "model.pc.toArray()"
   ]
  },
  {
   "cell_type": "code",
   "execution_count": 46,
   "metadata": {},
   "outputs": [
    {
     "data": {
      "text/plain": [
       "DenseVector([0.9918, 0.0071, 0.0011])"
      ]
     },
     "execution_count": 46,
     "metadata": {},
     "output_type": "execute_result"
    }
   ],
   "source": [
    "model.explainedVariance"
   ]
  },
  {
   "cell_type": "code",
   "execution_count": 47,
   "metadata": {},
   "outputs": [],
   "source": [
    "import matplotlib.pyplot as plt\n",
    "import numpy as np"
   ]
  },
  {
   "cell_type": "code",
   "execution_count": 48,
   "metadata": {},
   "outputs": [
    {
     "data": {
      "text/plain": [
       "[<matplotlib.lines.Line2D at 0x7fa3768e7950>]"
      ]
     },
     "execution_count": 48,
     "metadata": {},
     "output_type": "execute_result"
    },
    {
     "data": {
      "image/png": "[encoded data removed]",
      "text/plain": [
       "<Figure size 432x288 with 1 Axes>"
      ]
     },
     "metadata": {
      "needs_background": "light"
     },
     "output_type": "display_data"
    }
   ],
   "source": [
    "x = []\n",
    "for i in range(0, len(model.explainedVariance)):\n",
    "    x.append('PC' + str(i+1))\n",
    "\n",
    "y = np.array(model.explainedVariance)\n",
    "z = np.cumsum(model.explainedVariance)\n",
    "plt.xlabel('Pricipal components')\n",
    "plt.ylabel('Variance explained')\n",
    "plt.bar(x, y)\n",
    "plt.plot(x, z)"
   ]
  },
  {
   "cell_type": "code",
   "execution_count": 49,
   "metadata": {},
   "outputs": [],
   "source": [
    "from pyspark.ml.feature import VectorAssembler\n",
    "from pyspark.ml.feature import StandardScaler"
   ]
  },
  {
   "cell_type": "code",
   "execution_count": 50,
   "metadata": {},
   "outputs": [],
   "source": [
    "def scaled_assemble_vectors(df, features_list, target_variable_name):\n",
    "    stages = []\n",
    "    \n",
    "    assembler = VectorAssembler(inputCols=features_list, outputCol='assembled_features')\n",
    "    scaler = StandardScaler(inputCol=assembler.getOutputCol(), outputCol='features2')\n",
    "    stages = [assembler, scaler]\n",
    "    \n",
    "    selectedCols = [target_variable_name, 'features2'] + features_list\n",
    "    pipeline = Pipeline(stages=stages)\n",
    "    scaleAssembleModel = pipeline.fit(df)\n",
    "    df = scaleAssembleModel.transform(df).select(selectedCols)\n",
    "    \n",
    "    return df"
   ]
  },
  {
   "cell_type": "code",
   "execution_count": 51,
   "metadata": {},
   "outputs": [
    {
     "name": "stdout",
     "output_type": "stream",
     "text": [
      "+------------------------------------------------------------+\n",
      "|pcaFeatures                                                 |\n",
      "+------------------------------------------------------------+\n",
      "|[-0.656780883522954,4.312194871151715,-4.393764846983172]   |\n",
      "|[-0.5905533920181225,2.7430023739084834,-2.0129736282039534]|\n",
      "|[-0.7923309293106096,2.4285178222008144,-1.4128758397236354]|\n",
      "|[-0.7779852947452655,4.298302632063681,-5.322505502931134]  |\n",
      "|[-0.5280039534403727,6.559141503668741,-1.4081500208402007] |\n",
      "|[-0.7028277580738278,2.709340734232335,-3.2263556470672334] |\n",
      "|[-0.8104872327792485,1.429021001342883,-1.619935441335167]  |\n",
      "|[-0.9758735335487514,2.862044859013722,0.4335559756407308]  |\n",
      "|[-0.7126916038564428,5.1756377163943945,-4.531453571471411] |\n",
      "|[-0.5939132026125427,2.746785250427306,-2.0709944257211284] |\n",
      "|[-0.48367202786592667,2.584502296303892,-0.8133472106611472]|\n",
      "|[-0.5574665926507092,2.079820030405431,-1.169526629998768]  |\n",
      "|[-0.6052039081601734,3.4943812853157916,-3.060655824798425] |\n",
      "|[-0.7917889584108913,5.104448480112316,-5.533708763515419]  |\n",
      "|[-0.6341314284097588,4.061248668352654,-3.266869135889837]  |\n",
      "|[-0.6515302947286632,4.807107975837497,-3.9602262772319827] |\n",
      "|[-0.691372417464096,4.317335145408316,-3.852434963710728]   |\n",
      "|[-0.7928529953942547,4.245538907890598,-5.143335647203786]  |\n",
      "|[-0.6860141754954898,5.301081379535829,-4.4986208881196115] |\n",
      "|[-0.639679856471109,2.6216091964185146,-2.156084788188066]  |\n",
      "+------------------------------------------------------------+\n",
      "only showing top 20 rows\n",
      "\n"
     ]
    }
   ],
   "source": [
    "features_list = df.columns\n",
    "features_list.remove(target_variable_name)\n",
    "df = scaled_assemble_vectors(df, features_list, target_variable_name)\n",
    "\n",
    "pca = PCA(k=3, inputCol='features2', outputCol='pcaFeatures')\n",
    "model = pca.fit(df)\n",
    "\n",
    "result = model.transform(df).select('pcaFeatures')\n",
    "result.show(truncate=False)"
   ]
  },
  {
   "cell_type": "code",
   "execution_count": 52,
   "metadata": {},
   "outputs": [
    {
     "data": {
      "text/plain": [
       "[<matplotlib.lines.Line2D at 0x7fa37c643310>]"
      ]
     },
     "execution_count": 52,
     "metadata": {},
     "output_type": "execute_result"
    },
    {
     "data": {
      "image/png": "[encoded data removed]",
      "text/plain": [
       "<Figure size 432x288 with 1 Axes>"
      ]
     },
     "metadata": {
      "needs_background": "light"
     },
     "output_type": "display_data"
    }
   ],
   "source": [
    "x = []\n",
    "for i in range(0, len(model.explainedVariance)):\n",
    "    x.append('PC' + str(i+1))\n",
    "\n",
    "y = np.array(model.explainedVariance)\n",
    "z = np.cumsum(model.explainedVariance)\n",
    "plt.xlabel('Pricipal components')\n",
    "plt.ylabel('Variance explained')\n",
    "plt.bar(x, y)\n",
    "plt.plot(x, z)"
   ]
  },
  {
   "cell_type": "code",
   "execution_count": 53,
   "metadata": {},
   "outputs": [
    {
     "data": {
      "text/plain": [
       "DenseVector([0.1434, 0.0987, 0.0787])"
      ]
     },
     "execution_count": 53,
     "metadata": {},
     "output_type": "execute_result"
    }
   ],
   "source": [
    "model.explainedVariance"
   ]
  },
  {
   "cell_type": "markdown",
   "metadata": {},
   "source": [
    "# SVD"
   ]
  },
  {
   "cell_type": "code",
   "execution_count": 54,
   "metadata": {},
   "outputs": [],
   "source": [
    "from pyspark.mllib.linalg import Vectors\n",
    "from pyspark.mllib.linalg.distributed import RowMatrix"
   ]
  },
  {
   "cell_type": "code",
   "execution_count": 55,
   "metadata": {},
   "outputs": [
    {
     "name": "stderr",
     "output_type": "stream",
     "text": [
      "                                                                                \r"
     ]
    }
   ],
   "source": [
    "df_svd_vector = df.rdd.map(lambda x: x['features'].toArray())\n",
    "mat = RowMatrix(df_svd_vector)\n",
    "\n",
    "svd = mat.computeSVD(5, computeU=True)\n",
    "U = svd.U\n",
    "s = svd.s\n",
    "V = svd.V"
   ]
  },
  {
   "cell_type": "code",
   "execution_count": 56,
   "metadata": {},
   "outputs": [],
   "source": [
    "features_list = char_vars"
   ]
  },
  {
   "cell_type": "code",
   "execution_count": 57,
   "metadata": {},
   "outputs": [],
   "source": [
    "from pyspark.ml.feature import ChiSqSelector\n",
    "from pyspark.ml.linalg import Vectors"
   ]
  },
  {
   "cell_type": "code",
   "execution_count": 58,
   "metadata": {},
   "outputs": [],
   "source": [
    "selector = ChiSqSelector(numTopFeatures=6, featuresCol=\"features\", \n",
    "                         outputCol=\"selectedFeatures\", labelCol=\"y\")"
   ]
  },
  {
   "cell_type": "code",
   "execution_count": 59,
   "metadata": {},
   "outputs": [
    {
     "name": "stderr",
     "output_type": "stream",
     "text": [
      "[Stage 95:=============================>                            (1 + 1) / 2]\r"
     ]
    },
    {
     "name": "stdout",
     "output_type": "stream",
     "text": [
      "ChiSqSelector output with top 6 features selected\n",
      "Selected Indices:  [0, 1, 2, 3, 4, 5]\n",
      "                                                vals  idx       name  \\\n",
      "0  [blue-collar, management, technician, admin., ...    7        job   \n",
      "1             [married, single, divorced, __unknown]    8    marital   \n",
      "2  [secondary, tertiary, primary, unknown, __unkn...    9  education   \n",
      "3                               [no, yes, __unknown]   10    default   \n",
      "4                               [yes, no, __unknown]   11    housing   \n",
      "5                               [no, yes, __unknown]   12       loan   \n",
      "6          [cellular, unknown, telephone, __unknown]   13    contact   \n",
      "7  [may, jul, aug, jun, nov, apr, feb, jan, oct, ...   14      month   \n",
      "8      [unknown, failure, other, success, __unknown]   15   poutcome   \n",
      "\n",
      "   chisq_importance  \n",
      "0                 0  \n",
      "1                 0  \n",
      "2                 0  \n",
      "3                 0  \n",
      "4                 0  \n",
      "5                 0  \n",
      "6                 0  \n",
      "7                 0  \n",
      "8                 0  \n"
     ]
    },
    {
     "name": "stderr",
     "output_type": "stream",
     "text": [
      "                                                                                \r"
     ]
    }
   ],
   "source": [
    "chi_selector = selector.fit(df)\n",
    "result = chi_selector.transform(df)\n",
    "print(\"ChiSqSelector output with top %d features selected\" % selector.getNumTopFeatures())\n",
    "print(\"Selected Indices: \", chi_selector.selectedFeatures)\n",
    "\n",
    "features_df['chisq_importance'] = features_df['idx']\\\n",
    "    .apply(lambda x: 1 if x in chi_selector.selectedFeatures else 0)\n",
    "print(features_df)"
   ]
  },
  {
   "cell_type": "code",
   "execution_count": null,
   "metadata": {},
   "outputs": [],
   "source": []
  },
  {
   "cell_type": "code",
   "execution_count": 60,
   "metadata": {},
   "outputs": [
    {
     "name": "stderr",
     "output_type": "stream",
     "text": [
      "                                                                                \r"
     ]
    },
    {
     "data": {
      "text/plain": [
       "SparseVector(16, {0: 0.0173, 1: 0.0017, 2: 0.0053, 3: 0.4175, 4: 0.0025, 5: 0.0442, 6: 0.0418, 7: 0.0133, 8: 0.0033, 9: 0.0014, 11: 0.0196, 12: 0.001, 13: 0.0208, 14: 0.1764, 15: 0.2338})"
      ]
     },
     "execution_count": 60,
     "metadata": {},
     "output_type": "execute_result"
    }
   ],
   "source": [
    "from pyspark.ml.classification import RandomForestClassifier\n",
    "rf = RandomForestClassifier(featuresCol='features', labelCol=target_variable_name)\n",
    "rf_model = rf.fit(df)\n",
    "rf_model.featureImportances"
   ]
  },
  {
   "cell_type": "code",
   "execution_count": 61,
   "metadata": {},
   "outputs": [],
   "source": [
    "import pandas as pd\n",
    "for k, v in df.schema[\"features\"].metadata[\"ml_attr\"][\"attrs\"].items():\n",
    "    features_df = pd.DataFrame(v)\n",
    "    rf_output = rf_model.featureImportances\n",
    "    features_df['Importance'] = features_df['idx']\\\n",
    "        .apply(lambda x: rf_output[x] if x in rf_output.indices else 0)\n",
    "    #sort values based on descending importance feature\n",
    "    features_df.sort_values(\"Importance\", ascending=False, inplace=True)"
   ]
  },
  {
   "cell_type": "code",
   "execution_count": 62,
   "metadata": {},
   "outputs": [
    {
     "data": {
      "text/html": [
       "<div>\n",
       "<style scoped>\n",
       "    .dataframe tbody tr th:only-of-type {\n",
       "        vertical-align: middle;\n",
       "    }\n",
       "\n",
       "    .dataframe tbody tr th {\n",
       "        vertical-align: top;\n",
       "    }\n",
       "\n",
       "    .dataframe thead th {\n",
       "        text-align: right;\n",
       "    }\n",
       "</style>\n",
       "<table border=\"1\" class=\"dataframe\">\n",
       "  <thead>\n",
       "    <tr style=\"text-align: right;\">\n",
       "      <th></th>\n",
       "      <th>vals</th>\n",
       "      <th>idx</th>\n",
       "      <th>name</th>\n",
       "      <th>Importance</th>\n",
       "    </tr>\n",
       "  </thead>\n",
       "  <tbody>\n",
       "    <tr>\n",
       "      <th>8</th>\n",
       "      <td>[unknown, failure, other, success, __unknown]</td>\n",
       "      <td>15</td>\n",
       "      <td>poutcome</td>\n",
       "      <td>0.233825</td>\n",
       "    </tr>\n",
       "    <tr>\n",
       "      <th>7</th>\n",
       "      <td>[may, jul, aug, jun, nov, apr, feb, jan, oct, ...</td>\n",
       "      <td>14</td>\n",
       "      <td>month</td>\n",
       "      <td>0.176417</td>\n",
       "    </tr>\n",
       "    <tr>\n",
       "      <th>6</th>\n",
       "      <td>[cellular, unknown, telephone, __unknown]</td>\n",
       "      <td>13</td>\n",
       "      <td>contact</td>\n",
       "      <td>0.020764</td>\n",
       "    </tr>\n",
       "    <tr>\n",
       "      <th>4</th>\n",
       "      <td>[yes, no, __unknown]</td>\n",
       "      <td>11</td>\n",
       "      <td>housing</td>\n",
       "      <td>0.019575</td>\n",
       "    </tr>\n",
       "    <tr>\n",
       "      <th>0</th>\n",
       "      <td>[blue-collar, management, technician, admin., ...</td>\n",
       "      <td>7</td>\n",
       "      <td>job</td>\n",
       "      <td>0.013350</td>\n",
       "    </tr>\n",
       "    <tr>\n",
       "      <th>1</th>\n",
       "      <td>[married, single, divorced, __unknown]</td>\n",
       "      <td>8</td>\n",
       "      <td>marital</td>\n",
       "      <td>0.003297</td>\n",
       "    </tr>\n",
       "    <tr>\n",
       "      <th>2</th>\n",
       "      <td>[secondary, tertiary, primary, unknown, __unkn...</td>\n",
       "      <td>9</td>\n",
       "      <td>education</td>\n",
       "      <td>0.001435</td>\n",
       "    </tr>\n",
       "    <tr>\n",
       "      <th>5</th>\n",
       "      <td>[no, yes, __unknown]</td>\n",
       "      <td>12</td>\n",
       "      <td>loan</td>\n",
       "      <td>0.000990</td>\n",
       "    </tr>\n",
       "    <tr>\n",
       "      <th>3</th>\n",
       "      <td>[no, yes, __unknown]</td>\n",
       "      <td>10</td>\n",
       "      <td>default</td>\n",
       "      <td>0.000000</td>\n",
       "    </tr>\n",
       "  </tbody>\n",
       "</table>\n",
       "</div>"
      ],
      "text/plain": [
       "                                                vals  idx       name  \\\n",
       "8      [unknown, failure, other, success, __unknown]   15   poutcome   \n",
       "7  [may, jul, aug, jun, nov, apr, feb, jan, oct, ...   14      month   \n",
       "6          [cellular, unknown, telephone, __unknown]   13    contact   \n",
       "4                               [yes, no, __unknown]   11    housing   \n",
       "0  [blue-collar, management, technician, admin., ...    7        job   \n",
       "1             [married, single, divorced, __unknown]    8    marital   \n",
       "2  [secondary, tertiary, primary, unknown, __unkn...    9  education   \n",
       "5                               [no, yes, __unknown]   12       loan   \n",
       "3                               [no, yes, __unknown]   10    default   \n",
       "\n",
       "   Importance  \n",
       "8    0.233825  \n",
       "7    0.176417  \n",
       "6    0.020764  \n",
       "4    0.019575  \n",
       "0    0.013350  \n",
       "1    0.003297  \n",
       "2    0.001435  \n",
       "5    0.000990  \n",
       "3    0.000000  "
      ]
     },
     "execution_count": 62,
     "metadata": {},
     "output_type": "execute_result"
    }
   ],
   "source": [
    "features_df"
   ]
  },
  {
   "cell_type": "code",
   "execution_count": null,
   "metadata": {},
   "outputs": [],
   "source": []
  }
 ],
 "metadata": {
  "interpreter": {
   "hash": "8d9af65d782dbd37fec13b95660a3f96d11b2648e2cfc799a970c340749ecbb7"
  },
  "kernelspec": {
   "display_name": "Python 3.7.11 64-bit ('pyspark_env': conda)",
   "language": "python",
   "name": "python3"
  },
  "language_info": {
   "codemirror_mode": {
    "name": "ipython",
    "version": 3
   },
   "file_extension": ".py",
   "mimetype": "text/x-python",
   "name": "python",
   "nbconvert_exporter": "python",
   "pygments_lexer": "ipython3",
   "version": "3.7.11"
  },
  "orig_nbformat": 4
 },
 "nbformat": 4,
 "nbformat_minor": 2
}
