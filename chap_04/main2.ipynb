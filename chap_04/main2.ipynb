{
 "cells": [
  {
   "cell_type": "code",
   "execution_count": 1,
   "metadata": {},
   "outputs": [
    {
     "name": "stderr",
     "output_type": "stream",
     "text": [
      "22/01/21 12:28:40 WARN Utils: Your hostname, Rose resolves to a loopback address: 127.0.1.1; using 192.168.1.14 instead (on interface enp3s0)\n",
      "22/01/21 12:28:40 WARN Utils: Set SPARK_LOCAL_IP if you need to bind to another address\n",
      "WARNING: An illegal reflective access operation has occurred\n",
      "WARNING: Illegal reflective access by org.apache.spark.unsafe.Platform (file:/opt/spark-3.0.3/jars/spark-unsafe_2.12-3.0.3.jar) to constructor java.nio.DirectByteBuffer(long,int)\n",
      "WARNING: Please consider reporting this to the maintainers of org.apache.spark.unsafe.Platform\n",
      "WARNING: Use --illegal-access=warn to enable warnings of further illegal reflective access operations\n",
      "WARNING: All illegal access operations will be denied in a future release\n",
      "22/01/21 12:28:40 WARN NativeCodeLoader: Unable to load native-hadoop library for your platform... using builtin-java classes where applicable\n",
      "Using Spark's default log4j profile: org/apache/spark/log4j-defaults.properties\n",
      "Setting default log level to \"WARN\".\n",
      "To adjust logging level use sc.setLogLevel(newLevel). For SparkR, use setLogLevel(newLevel).\n",
      "22/01/21 12:28:41 WARN Utils: Service 'SparkUI' could not bind on port 4040. Attempting port 4041.\n"
     ]
    }
   ],
   "source": [
    "from pyspark.sql import SparkSession\n",
    "spark = SparkSession.builder.getOrCreate()\n",
    "dataset = 2"
   ]
  },
  {
   "cell_type": "code",
   "execution_count": 4,
   "metadata": {},
   "outputs": [
    {
     "name": "stdout",
     "output_type": "stream",
     "text": [
      "+---+----------+-------------------+-----+----+---------+------+------------+----------+--------+--------+--------+--------+----+--------+------------+---------+-----------+---------+----------+--------------------+-------------+\n",
      "|_c0|    Suburb|            Address|Rooms|type|    Price|Method|     SellerG|      Date|Distance|Postcode|Bedroom2|Bathroom| Car|Landsize|BuildingArea|YearBuilt|CouncilArea|Lattitude|Longtitude|          Regionname|Propertycount|\n",
      "+---+----------+-------------------+-----+----+---------+------+------------+----------+--------+--------+--------+--------+----+--------+------------+---------+-----------+---------+----------+--------------------+-------------+\n",
      "|  1|Abbotsford|       85 Turner St|    2|   0|1480000.0|     S|      Biggin| 3/12/2016|     2.5|  3067.0|     2.0|     1.0| 1.0|   202.0|        null|     null|      Yarra| -37.7996|  144.9984|Northern Metropol...|       4019.0|\n",
      "|  2|Abbotsford|    25 Bloomburg St|    2|   0|1035000.0|     S|      Biggin| 4/02/2016|     2.5|  3067.0|     2.0|     1.0| 0.0|   156.0|        79.0|   1900.0|      Yarra| -37.8079|  144.9934|Northern Metropol...|       4019.0|\n",
      "|  4|Abbotsford|       5 Charles St|    3|   0|1465000.0|    SP|      Biggin| 4/03/2017|     2.5|  3067.0|     3.0|     2.0| 0.0|   134.0|       150.0|   1900.0|      Yarra| -37.8093|  144.9944|Northern Metropol...|       4019.0|\n",
      "|  5|Abbotsford|   40 Federation La|    3|   0| 850000.0|    PI|      Biggin| 4/03/2017|     2.5|  3067.0|     3.0|     2.0| 1.0|    94.0|        null|     null|      Yarra| -37.7969|  144.9969|Northern Metropol...|       4019.0|\n",
      "|  6|Abbotsford|        55a Park St|    4|   0|1600000.0|    VB|      Nelson| 4/06/2016|     2.5|  3067.0|     3.0|     1.0| 2.0|   120.0|       142.0|   2014.0|      Yarra| -37.8072|  144.9941|Northern Metropol...|       4019.0|\n",
      "| 10|Abbotsford|     129 Charles St|    2|   0| 941000.0|     S|      Jellis| 7/05/2016|     2.5|  3067.0|     2.0|     1.0| 0.0|   181.0|        null|     null|      Yarra| -37.8041|  144.9953|Northern Metropol...|       4019.0|\n",
      "| 11|Abbotsford|       124 Yarra St|    3|   0|1876000.0|     S|      Nelson| 7/05/2016|     2.5|  3067.0|     4.0|     2.0| 0.0|   245.0|       210.0|   1910.0|      Yarra| -37.8024|  144.9993|Northern Metropol...|       4019.0|\n",
      "| 14|Abbotsford|      98 Charles St|    2|   0|1636000.0|     S|      Nelson| 8/10/2016|     2.5|  3067.0|     2.0|     1.0| 2.0|   256.0|       107.0|   1890.0|      Yarra|  -37.806|  144.9954|Northern Metropol...|       4019.0|\n",
      "| 15|Abbotsford|   217 Langridge St|    3|   0|1000000.0|     S|      Jellis| 8/10/2016|     2.5|  3067.0|    null|    null|null|    null|        null|     null|       null|     null|      null|Northern Metropol...|       4019.0|\n",
      "| 16|Abbotsford|    18a Mollison St|    2|   1| 745000.0|     S|      Jellis| 8/10/2016|     2.5|  3067.0|    null|    null|null|    null|        null|     null|       null|     null|      null|Northern Metropol...|       4019.0|\n",
      "| 17|Abbotsford| 6/241 Nicholson St|    1|   1| 300000.0|     S|      Biggin| 8/10/2016|     2.5|  3067.0|     1.0|     1.0| 1.0|     0.0|        null|     null|      Yarra| -37.8008|  144.9973|Northern Metropol...|       4019.0|\n",
      "| 18|Abbotsford|      10 Valiant St|    2|   0|1097000.0|     S|      Biggin| 8/10/2016|     2.5|  3067.0|     3.0|     1.0| 2.0|   220.0|        75.0|   1900.0|      Yarra|  -37.801|  144.9989|Northern Metropol...|       4019.0|\n",
      "| 19|Abbotsford|403/609 Victoria St|    2|   1| 542000.0|     S|      Dingle| 8/10/2016|     2.5|  3067.0|    null|    null|null|    null|        null|     null|       null|     null|      null|Northern Metropol...|       4019.0|\n",
      "| 21|Abbotsford|  25/84 Trenerry Cr|    2|   1| 760000.0|    SP|      Biggin|10/12/2016|     2.5|  3067.0|    null|    null|null|    null|        null|     null|       null|     null|      null|Northern Metropol...|       4019.0|\n",
      "| 22|Abbotsford|  106/119 Turner St|    1|   1| 481000.0|    SP|Purplebricks|10/12/2016|     2.5|  3067.0|    null|    null|null|    null|        null|     null|       null|     null|      null|Northern Metropol...|       4019.0|\n",
      "| 23|Abbotsford| 411/8 Grosvenor St|    2|   1| 700000.0|    VB|      Jellis|12/11/2016|     2.5|  3067.0|     2.0|     2.0| 1.0|     0.0|        null|     null|      Yarra|  -37.811|  145.0067|Northern Metropol...|       4019.0|\n",
      "| 24|Abbotsford|    40 Nicholson St|    3|   0|1350000.0|    VB|      Nelson|12/11/2016|     2.5|  3067.0|     3.0|     2.0| 2.0|   214.0|       190.0|   2005.0|      Yarra| -37.8085|  144.9964|Northern Metropol...|       4019.0|\n",
      "| 25|Abbotsford|123/56 Nicholson St|    2|   1| 750000.0|     S|      Biggin|12/11/2016|     2.5|  3067.0|     2.0|     2.0| 1.0|     0.0|        94.0|   2009.0|      Yarra| -37.8078|  144.9965|Northern Metropol...|       4019.0|\n",
      "| 26|Abbotsford|         22 Park St|    4|   0|1985000.0|     S|      Biggin|12/11/2016|     2.5|  3067.0|    null|    null|null|    null|        null|     null|       null| -37.8084|  144.9942|Northern Metropol...|       4019.0|\n",
      "| 27|Abbotsford|  13/84 Trenerry Cr|    1|   1| 500000.0|     S|      Biggin|12/11/2016|     2.5|  3067.0|    null|    null|null|    null|        null|     null|       null|     null|      null|Northern Metropol...|       4019.0|\n",
      "+---+----------+-------------------+-----+----+---------+------+------------+----------+--------+--------+--------+--------+----+--------+------------+---------+-----------+---------+----------+--------------------+-------------+\n",
      "only showing top 20 rows\n",
      "\n"
     ]
    },
    {
     "name": "stderr",
     "output_type": "stream",
     "text": [
      "22/01/21 12:29:59 WARN CSVHeaderChecker: CSV header does not conform to the schema.\n",
      " Header: , Suburb, Address, Rooms, Type, Price, Method, SellerG, Date, Distance, Postcode, Bedroom2, Bathroom, Car, Landsize, BuildingArea, YearBuilt, CouncilArea, Lattitude, Longtitude, Regionname, Propertycount\n",
      " Schema: _c0, Suburb, Address, Rooms, Type, Price, Method, SellerG, Date, Distance, Postcode, Bedroom2, Bathroom, Car, Landsize, BuildingArea, YearBuilt, CouncilArea, Lattitude, Longtitude, Regionname, Propertycount\n",
      "Expected: _c0 but found: \n",
      "CSV file: file:///home/manhcuong/Temp/Applied_DS_Using_PySpark/chap_04/melb_data.csv\n"
     ]
    }
   ],
   "source": [
    "from pyspark.sql import functions as F\n",
    "# if the option is set as 1 load bank dataset\n",
    "if dataset == 1:\n",
    "    filename = \"bank-full.csv\"\n",
    "    target_variable_name = 'y'\n",
    "    df = spark.read.csv(filename, header=True, inferSchema=True, sep=';')\n",
    "    df = df.withColumn(target_variable_name, F.when(df[target_variable_name] == 'no', 0).otherwise(1))\n",
    "else:\n",
    "    filename = \"melb_data.csv\"\n",
    "    target_variable_name = \"type\"\n",
    "    df = spark.read.csv(filename, header=True, inferSchema=True, sep=',')\n",
    "    df = df.withColumn(target_variable_name, F.when(df[target_variable_name] == 'h', 0).otherwise(1))\n",
    "\n",
    "df.show()"
   ]
  },
  {
   "cell_type": "code",
   "execution_count": 8,
   "metadata": {},
   "outputs": [
    {
     "name": "stdout",
     "output_type": "stream",
     "text": [
      "+----+-----+\n",
      "|type|count|\n",
      "+----+-----+\n",
      "|   1| 6301|\n",
      "|   0|12095|\n",
      "+----+-----+\n",
      "\n"
     ]
    }
   ],
   "source": [
    "df.groupby(target_variable_name).count().show()\n",
    "\n",
    "def variable_type(df):\n",
    "    vars_list = df.dtypes\n",
    "    char_vars = []\n",
    "    num_vars = []\n",
    "    for i in vars_list:\n",
    "        if i[1] in ('string'):\n",
    "            char_vars.append(i[0])\n",
    "        else:\n",
    "            num_vars.append(i[0])\n",
    "\n",
    "    return char_vars, num_vars"
   ]
  },
  {
   "cell_type": "code",
   "execution_count": 9,
   "metadata": {},
   "outputs": [],
   "source": [
    "char_vars, num_vars = variable_type(df)"
   ]
  },
  {
   "cell_type": "code",
   "execution_count": 10,
   "metadata": {},
   "outputs": [],
   "source": [
    "if dataset != 1:\n",
    "    char_vars.remove('Address')\n",
    "    char_vars.remove('SellerG')\n",
    "    char_vars.remove('Date')\n",
    "    char_vars.remove('Suburb')\n",
    "    \n",
    "num_vars.remove(target_variable_name)\n",
    "final_vars = char_vars + num_vars"
   ]
  },
  {
   "cell_type": "code",
   "execution_count": 11,
   "metadata": {},
   "outputs": [],
   "source": [
    "from pyspark.sql import functions as F\n",
    "import pandas as pd\n",
    "import numpy as np\n",
    "from pyspark.ml.feature import QuantileDiscretizer, VectorAssembler\n",
    "import scipy.stats.stats as stats"
   ]
  },
  {
   "cell_type": "code",
   "execution_count": null,
   "metadata": {},
   "outputs": [],
   "source": []
  }
 ],
 "metadata": {
  "interpreter": {
   "hash": "8d9af65d782dbd37fec13b95660a3f96d11b2648e2cfc799a970c340749ecbb7"
  },
  "kernelspec": {
   "display_name": "Python 3.7.11 64-bit ('pyspark_env': conda)",
   "language": "python",
   "name": "python3"
  },
  "language_info": {
   "codemirror_mode": {
    "name": "ipython",
    "version": 3
   },
   "file_extension": ".py",
   "mimetype": "text/x-python",
   "name": "python",
   "nbconvert_exporter": "python",
   "pygments_lexer": "ipython3",
   "version": "3.7.11"
  },
  "orig_nbformat": 4
 },
 "nbformat": 4,
 "nbformat_minor": 2
}
